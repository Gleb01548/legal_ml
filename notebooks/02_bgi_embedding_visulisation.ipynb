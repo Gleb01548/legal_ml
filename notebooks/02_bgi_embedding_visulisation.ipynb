{
 "cells": [
  {
   "cell_type": "code",
   "execution_count": 1,
   "metadata": {},
   "outputs": [],
   "source": [
    "import os\n",
    "\n",
    "if \"src\" not in os.listdir():\n",
    "    os.chdir(\"../\")"
   ]
  },
  {
   "cell_type": "code",
   "execution_count": 3,
   "metadata": {},
   "outputs": [
    {
     "ename": "ModuleNotFoundError",
     "evalue": "No module named 'qdrant_client'",
     "output_type": "error",
     "traceback": [
      "\u001b[0;31m---------------------------------------------------------------------------\u001b[0m",
      "\u001b[0;31mModuleNotFoundError\u001b[0m                       Traceback (most recent call last)",
      "Cell \u001b[0;32mIn[3], line 7\u001b[0m\n\u001b[1;32m      5\u001b[0m \u001b[38;5;28;01mfrom\u001b[39;00m\u001b[38;5;250m \u001b[39m\u001b[38;5;21;01msklearn\u001b[39;00m\u001b[38;5;21;01m.\u001b[39;00m\u001b[38;5;21;01mmanifold\u001b[39;00m\u001b[38;5;250m \u001b[39m\u001b[38;5;28;01mimport\u001b[39;00m TSNE\n\u001b[1;32m      6\u001b[0m \u001b[38;5;28;01mfrom\u001b[39;00m\u001b[38;5;250m \u001b[39m\u001b[38;5;21;01msklearn\u001b[39;00m\u001b[38;5;21;01m.\u001b[39;00m\u001b[38;5;21;01mcluster\u001b[39;00m\u001b[38;5;250m \u001b[39m\u001b[38;5;28;01mimport\u001b[39;00m KMeans\n\u001b[0;32m----> 7\u001b[0m \u001b[38;5;28;01mfrom\u001b[39;00m\u001b[38;5;250m \u001b[39m\u001b[38;5;21;01mqdrant_client\u001b[39;00m\u001b[38;5;250m \u001b[39m\u001b[38;5;28;01mimport\u001b[39;00m QdrantClient, models\n\u001b[1;32m      8\u001b[0m \u001b[38;5;28;01mfrom\u001b[39;00m\u001b[38;5;250m \u001b[39m\u001b[38;5;21;01mbokeh\u001b[39;00m\u001b[38;5;21;01m.\u001b[39;00m\u001b[38;5;21;01mio\u001b[39;00m\u001b[38;5;250m \u001b[39m\u001b[38;5;28;01mimport\u001b[39;00m output_notebook\n\u001b[1;32m      9\u001b[0m \u001b[38;5;28;01mfrom\u001b[39;00m\u001b[38;5;250m \u001b[39m\u001b[38;5;21;01mbokeh\u001b[39;00m\u001b[38;5;21;01m.\u001b[39;00m\u001b[38;5;21;01mplotting\u001b[39;00m\u001b[38;5;250m \u001b[39m\u001b[38;5;28;01mimport\u001b[39;00m figure, show\n",
      "\u001b[0;31mModuleNotFoundError\u001b[0m: No module named 'qdrant_client'"
     ]
    }
   ],
   "source": [
    "import numpy as np\n",
    "\n",
    "import pandas as pd\n",
    "from loguru import logger\n",
    "from sklearn.manifold import TSNE\n",
    "from sklearn.cluster import KMeans\n",
    "from qdrant_client import QdrantClient, models\n",
    "from bokeh.io import output_notebook\n",
    "from bokeh.plotting import figure, show\n",
    "from bokeh.models import ColumnDataSource, HoverTool\n",
    "from bokeh.palettes import Category10\n",
    "\n",
    "from src.conf import url_qdrant\n",
    "\n",
    "\n",
    "output_notebook()"
   ]
  },
  {
   "cell_type": "code",
   "execution_count": null,
   "metadata": {},
   "outputs": [],
   "source": [
    "path_save_points_for_visual = \"./data/interim/points_for_visual.csv\"\n",
    "\n",
    "client = QdrantClient(url=url_qdrant)\n",
    "collection_name = \"911_hybrid_rating_points\"\n",
    "num_examples_for_visual = 10_000"
   ]
  },
  {
   "cell_type": "code",
   "execution_count": null,
   "metadata": {},
   "outputs": [],
   "source": [
    "if (\n",
    "    os.path.exists(path_save_points_for_visual)\n",
    "    and len(pd.read_csv(path_save_points_for_visual)) == num_examples_for_visual\n",
    "):\n",
    "    logger.info(f\"Будут использованы points с {path_save_points_for_visual}\")\n",
    "    ids_points = pd.read_csv(path_save_points_for_visual)[\"id\"].to_list()\n",
    "    points = client.retrieve(\n",
    "        collection_name=collection_name,\n",
    "        ids=ids_points,\n",
    "        with_vectors=True,\n",
    "        timeout=10_000,\n",
    "    )\n",
    "else:\n",
    "    logger.info(f\"Будет сформирована случайная выборка points\")\n",
    "    points = client.query_points(\n",
    "        collection_name=collection_name,\n",
    "        query=models.SampleQuery(sample=models.Sample.RANDOM),\n",
    "        limit=num_examples_for_visual,\n",
    "        with_vectors=True,\n",
    "        timeout=10_000,\n",
    "    ).points\n",
    "\n",
    "    ids_points = [i.id for i in points]\n",
    "\n",
    "    pd.DataFrame({\"id\": ids_points}).to_csv(path_save_points_for_visual)"
   ]
  },
  {
   "cell_type": "code",
   "execution_count": null,
   "metadata": {},
   "outputs": [],
   "source": [
    "embeddings = []\n",
    "texts = []\n",
    "ids = []\n",
    "\n",
    "for i in points:\n",
    "    embeddings.append(i.vector)\n",
    "    texts.append(i.payload[\"question\"])\n",
    "    ids.append(i.id)"
   ]
  },
  {
   "cell_type": "code",
   "execution_count": null,
   "metadata": {},
   "outputs": [],
   "source": [
    "def reduce_dimensions(embeddings, n_components=2, perplexity=30, learning_rate=200):\n",
    "    # Используем t-SNE для уменьшения размерности\n",
    "    reducer = TSNE(\n",
    "        n_components=n_components,\n",
    "        perplexity=perplexity,\n",
    "        learning_rate=learning_rate,\n",
    "        random_state=42,  # Фиксируем random_state для детерминированности\n",
    "    )\n",
    "    return reducer.fit_transform(embeddings)\n",
    "\n",
    "\n",
    "def cluster_embeddings(reduced_embeddings, n_clusters=5):\n",
    "    kmeans = KMeans(n_clusters=n_clusters, random_state=42)\n",
    "    return kmeans.fit_predict(reduced_embeddings)\n",
    "\n",
    "\n",
    "def visualize_embeddings(reduced_embeddings, texts, ids, cluster_labels):\n",
    "    df = pd.DataFrame(\n",
    "        {\n",
    "            \"x\": reduced_embeddings[:, 0],\n",
    "            \"y\": reduced_embeddings[:, 1],\n",
    "            \"text\": texts,\n",
    "            \"id\": ids,\n",
    "            \"cluster\": cluster_labels,\n",
    "        }\n",
    "    )\n",
    "\n",
    "    # Создаем палитру цветов\n",
    "    unique_clusters = df[\"cluster\"].unique()\n",
    "    print(unique_clusters)\n",
    "    print(len(unique_clusters))\n",
    "    palette = Category10[len(unique_clusters)]\n",
    "    color_map = {cluster: color for cluster, color in zip(unique_clusters, palette)}\n",
    "\n",
    "    # Добавляем столбец с цветами в DataFrame\n",
    "    df[\"fill_color\"] = df[\"cluster\"].apply(lambda x: color_map[x])\n",
    "\n",
    "    # Создаем источник данных\n",
    "    source = ColumnDataSource(df)\n",
    "\n",
    "    # Настройка инструментов\n",
    "    TOOLS = \"hover,crosshair,pan,wheel_zoom,zoom_in,zoom_out,box_zoom,undo,redo,reset,tap,save,box_select,poly_select,lasso_select,examine,help\"\n",
    "\n",
    "    # Создание графика\n",
    "    p = figure(\n",
    "        title=\"Визуализация эмбеддингов с кластерами\",\n",
    "        x_axis_label=\"x\",\n",
    "        y_axis_label=\"y\",\n",
    "        tools=TOOLS,\n",
    "        output_backend=\"webgl\",\n",
    "        width=1200,\n",
    "        height=1200,\n",
    "    )  # Использование WebGL для лучшей производительности\n",
    "\n",
    "    # Добавление точек на график\n",
    "    p.scatter(\n",
    "        \"x\",\n",
    "        \"y\",\n",
    "        size=5,  # Размер точки\n",
    "        fill_color=\"fill_color\",\n",
    "        fill_alpha=0.6,\n",
    "        line_color=None,\n",
    "        source=source,\n",
    "    )\n",
    "\n",
    "    # Настройка отображения текста при наведении\n",
    "    hover = HoverTool(\n",
    "        tooltips=[\n",
    "            (\"Text\", \"@text\"),\n",
    "            (\"Cluster\", \"@cluster\"),\n",
    "        ],\n",
    "        mode=\"mouse\",\n",
    "    )\n",
    "\n",
    "    p.add_tools(hover)\n",
    "\n",
    "    # Отображение графика\n",
    "    show(p)\n",
    "\n",
    "\n",
    "# Сжатие эмбеддингов до 2D\n",
    "reduced_embeddings = reduce_dimensions(np.array([i[\"dense\"] for i in embeddings]), n_components=2)\n",
    "\n",
    "# Кластеризация\n",
    "cluster_labels = cluster_embeddings(reduced_embeddings, n_clusters=10)\n",
    "\n",
    "# Визуализация\n",
    "visualize_embeddings(reduced_embeddings, texts, ids, cluster_labels)"
   ]
  },
  {
   "cell_type": "code",
   "execution_count": null,
   "metadata": {},
   "outputs": [],
   "source": [
    "unique_clusters = [8, 5, 6, 7, 2, 0, 3, 9, 1, 4]\n",
    "Category10[len(unique_clusters)]"
   ]
  },
  {
   "cell_type": "code",
   "execution_count": null,
   "metadata": {},
   "outputs": [],
   "source": [
    "len(unique_clusters)"
   ]
  },
  {
   "cell_type": "code",
   "execution_count": null,
   "metadata": {},
   "outputs": [],
   "source": [
    "Category10[1]"
   ]
  },
  {
   "cell_type": "markdown",
   "metadata": {},
   "source": [
    "Эмбеддинги не идеальные. Видно, что они переодически группируются не по юридическим основаниям, а по упоминанию материальных объектов (квартира, машина). Хотя чаще эмбеддинги адекватные."
   ]
  },
  {
   "cell_type": "markdown",
   "metadata": {},
   "source": []
  }
 ],
 "metadata": {
  "kernelspec": {
   "display_name": ".venv",
   "language": "python",
   "name": "python3"
  },
  "language_info": {
   "codemirror_mode": {
    "name": "ipython",
    "version": 3
   },
   "file_extension": ".py",
   "mimetype": "text/x-python",
   "name": "python",
   "nbconvert_exporter": "python",
   "pygments_lexer": "ipython3",
   "version": "3.10.16"
  }
 },
 "nbformat": 4,
 "nbformat_minor": 2
}
