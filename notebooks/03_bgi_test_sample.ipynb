{
 "cells": [
  {
   "cell_type": "code",
   "execution_count": 2,
   "metadata": {},
   "outputs": [],
   "source": [
    "import os\n",
    "\n",
    "if \"src\" not in os.listdir():\n",
    "    os.chdir(\"../\")"
   ]
  },
  {
   "cell_type": "code",
   "execution_count": 3,
   "metadata": {},
   "outputs": [],
   "source": [
    "import pandas as pd\n",
    "from qdrant_client import QdrantClient, models\n",
    "\n",
    "from src.conf import url_qdrant"
   ]
  },
  {
   "cell_type": "code",
   "execution_count": 4,
   "metadata": {},
   "outputs": [],
   "source": [
    "client = QdrantClient(url=url_qdrant)\n",
    "collection_name = \"911_hybrid_rating_points\""
   ]
  },
  {
   "cell_type": "code",
   "execution_count": null,
   "metadata": {},
   "outputs": [],
   "source": [
    "# Получение случайных записей\n",
    "points = client.query_points(\n",
    "    collection_name=collection_name,\n",
    "    query=models.SampleQuery(sample=models.Sample.RANDOM),\n",
    "    limit=10_000,\n",
    "    with_vectors=True,\n",
    "    timeout=10_000,\n",
    ").points\n",
    "\n",
    "# Фильтрация записей с рейтингом больше 5\n",
    "filtered_points = [point for point in points if point.payload[\"rating\"] > 5]"
   ]
  },
  {
   "cell_type": "code",
   "execution_count": 20,
   "metadata": {},
   "outputs": [],
   "source": [
    "output_file = \"./data/interim/output_docs.txt\"\n",
    "with open(output_file, \"w\", encoding=\"utf-8\") as file:\n",
    "    for index, point in enumerate(filtered_points):\n",
    "        doc = f\"\"\"\n",
    "DOC {index}\n",
    "\n",
    "RATING\n",
    "{point.payload[\"rating\"]}\n",
    "\n",
    "QUESTION\n",
    "{point.payload[\"question\"]}\n",
    "\n",
    "ANSWER\n",
    "{point.payload[\"answer\"]}\n",
    "\n",
    "ID\n",
    "{point.id}\n",
    "\n",
    "\n",
    "            \"\"\"\n",
    "        file.write(doc)"
   ]
  },
  {
   "cell_type": "code",
   "execution_count": 6,
   "metadata": {},
   "outputs": [
    {
     "data": {
      "text/plain": [
       "100"
      ]
     },
     "execution_count": 6,
     "metadata": {},
     "output_type": "execute_result"
    }
   ],
   "source": [
    "test_questions = [\n",
    "    (19072452, \"гк\"),\n",
    "    (14308358, \"ук\"),\n",
    "    (7809465, \"гк\"),\n",
    "    (19416812, \"ук\"),\n",
    "    (18705451, \"админ\"),\n",
    "    (20904884, \"админ\"),\n",
    "    (5931694, \"гк\"),\n",
    "    (16326387, \"ук\"),\n",
    "    (16537226, \"исполн\"),\n",
    "    (19637001, \"тк\"),\n",
    "    (19014946, \"админ\"),\n",
    "    (15054883, \"админ\"),\n",
    "    (16966301, \"админ\"),\n",
    "    (7659677, \"гк\"),\n",
    "    (16694250, \"тк\"),\n",
    "    (18931782, \"админ\"),\n",
    "    (18180910, \"тк\"),\n",
    "    (19826311, \"исполн\"),\n",
    "    (20641686, \"гк\"),\n",
    "    (20839398, \"тк\"),\n",
    "    (15558232, \"админ\"),\n",
    "    (13533990, \"исполн\"),\n",
    "    (16428245, \"ск\"),\n",
    "    (20678666, \"админ\"),\n",
    "    (20959409, \"гк\"),\n",
    "    (21034299, \"админ\"),\n",
    "    (18428517, \"админ\"),\n",
    "    (20387795, \"ск\"),\n",
    "    (14975158, \"админ\"),\n",
    "    (19411870, \"гк\"),\n",
    "    (16285897, \"тк\"),\n",
    "    (17641340, \"исполн\"),\n",
    "    (13026966, \"админ\"),\n",
    "    (20055086, \"админ\"),\n",
    "    (20586697, \"тк\"),\n",
    "    (21111573, \"админ\"),\n",
    "    (15150580, \"админ\"),\n",
    "    (17388432, \"ук\"),\n",
    "    (8444514, \"админ\"),\n",
    "    (14102124, \"ск\"),\n",
    "    (18059302, \"гк\"),\n",
    "    (17438653, \"ук\"),\n",
    "    (18464890, \"админ\"),\n",
    "    (19527664, \"исполн\"),\n",
    "    (15208958, \"ук\"),\n",
    "    (4358600, \"гк\"),\n",
    "    (1948777, \"гк\"),\n",
    "    (2132468, \"гк\"),\n",
    "    (18664279, \"гк\"),\n",
    "    (16512513, \"гк\"),\n",
    "    (6962182, \"админ\"),\n",
    "    (6933618, \"админ\"),\n",
    "    (18140114, \"гк\"),\n",
    "    (19022931, \"админ\"),\n",
    "    (16338872, \"админ\"),\n",
    "    (6193019, \"гк\"),\n",
    "    (19710915, \"админ\"),\n",
    "    (18085463, \"гк\"),\n",
    "    (19961004, \"гк\"),\n",
    "    (13965670, \"исполн\"),\n",
    "    (13557369, \"гк\"),\n",
    "    (20424918, \"гк\"),\n",
    "    (20707444, \"админ\"),\n",
    "    (18548572, \"гк\"),\n",
    "    (17636001, \"ск\"),\n",
    "    (20565120, \"админ\"),\n",
    "    (20129632, \"тк\"),\n",
    "    (16472815, \"тк\"),\n",
    "    (19022676, \"ук\"),\n",
    "    (9978665, \"тк\"),\n",
    "    (18032248, \"админ\"),\n",
    "    (17802521, \"тк\"),\n",
    "    (6153265, \"ск\"),\n",
    "    (19923349, \"ск\"),\n",
    "    (7184938, \"гк\"),\n",
    "    (17622159, \"админ\"),\n",
    "    (16744451, \"админ\"),\n",
    "    (19057489, \"исполн\"),\n",
    "    (17958420, \"админ\"),\n",
    "    (19275237, \"исполн\"),\n",
    "    (17309719, \"исполн\"),\n",
    "    (20776512, \"тк\"),\n",
    "    (18128984, \"исполн\"),\n",
    "    (20170220, \"тк\"),\n",
    "    (18503591, \"тк\"),\n",
    "    (18159040, \"ск\"),\n",
    "    (18277541, \"ск\"),\n",
    "    (18814860, \"админ\"),\n",
    "    (18495583, \"ск\"),\n",
    "    (20521600, \"ск\"),\n",
    "    (17692495, \"гк\"),\n",
    "    (19299247, \"админ\"),\n",
    "    (19630865, \"ск\"),\n",
    "    (21023975, \"гк\"),\n",
    "    (19027733, \"ук\"),\n",
    "    (14732175, \"ук\"),\n",
    "    (16660581, \"гк\"),\n",
    "    (19400689, \"админ\"),\n",
    "    (17837486, \"ск\"),\n",
    "    (17621580, \"тк\"),\n",
    "]\n",
    "\n",
    "len(test_questions)"
   ]
  },
  {
   "cell_type": "code",
   "execution_count": null,
   "metadata": {},
   "outputs": [],
   "source": [
    "test_records = [{\"id\": id, \"cat\": cat} for (id, cat) in test_questions]\n",
    "df_test = pd.DataFrame(test_records)"
   ]
  },
  {
   "cell_type": "code",
   "execution_count": 8,
   "metadata": {},
   "outputs": [
    {
     "data": {
      "text/plain": [
       "cat\n",
       "админ     31\n",
       "гк        24\n",
       "тк        14\n",
       "ск        12\n",
       "исполн    10\n",
       "ук         9\n",
       "Name: count, dtype: int64"
      ]
     },
     "execution_count": 8,
     "metadata": {},
     "output_type": "execute_result"
    }
   ],
   "source": [
    "df_test[\"cat\"].value_counts()"
   ]
  },
  {
   "cell_type": "code",
   "execution_count": 9,
   "metadata": {},
   "outputs": [],
   "source": [
    "df_test.to_csv(\"./data/interim/evalutions/points_for_judge.csv\")"
   ]
  }
 ],
 "metadata": {
  "kernelspec": {
   "display_name": ".venv",
   "language": "python",
   "name": "python3"
  },
  "language_info": {
   "codemirror_mode": {
    "name": "ipython",
    "version": 3
   },
   "file_extension": ".py",
   "mimetype": "text/x-python",
   "name": "python",
   "nbconvert_exporter": "python",
   "pygments_lexer": "ipython3",
   "version": "3.10.16"
  }
 },
 "nbformat": 4,
 "nbformat_minor": 2
}
