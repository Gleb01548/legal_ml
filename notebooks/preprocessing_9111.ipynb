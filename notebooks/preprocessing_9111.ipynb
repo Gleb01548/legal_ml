{
 "cells": [
  {
   "cell_type": "code",
   "execution_count": 1,
   "metadata": {},
   "outputs": [],
   "source": [
    "import os\n",
    "\n",
    "if \"src\" not in os.listdir():\n",
    "    os.chdir(\"../\")"
   ]
  },
  {
   "cell_type": "code",
   "execution_count": 2,
   "metadata": {},
   "outputs": [
    {
     "name": "stderr",
     "output_type": "stream",
     "text": [
      "/home/harddisk/projects/legal_ml/.venv/lib/python3.10/site-packages/tqdm/auto.py:21: TqdmWarning: IProgress not found. Please update jupyter and ipywidgets. See https://ipywidgets.readthedocs.io/en/stable/user_install.html\n",
      "  from .autonotebook import tqdm as notebook_tqdm\n"
     ]
    }
   ],
   "source": [
    "import gc\n",
    "import requests\n",
    "from collections import Counter\n",
    "\n",
    "import pandas as pd\n",
    "from tqdm import tqdm\n",
    "from numpy import ndarray\n",
    "from datasets import Dataset, DatasetDict\n",
    "\n",
    "tqdm.pandas()"
   ]
  },
  {
   "cell_type": "code",
   "execution_count": 3,
   "metadata": {},
   "outputs": [
    {
     "name": "stderr",
     "output_type": "stream",
     "text": [
      "  0%|          | 0/13 [00:14<?, ?it/s]\n"
     ]
    },
    {
     "data": {
      "text/plain": [
       "0"
      ]
     },
     "execution_count": 3,
     "metadata": {},
     "output_type": "execute_result"
    }
   ],
   "source": [
    "path_files = \"./data/interim/split_9111_dataset\"\n",
    "\n",
    "res = []\n",
    "for name_file in tqdm(os.listdir(path_files)):\n",
    "    res.append(pd.read_parquet(os.path.join(path_files, name_file)))\n",
    "    break\n",
    "\n",
    "df = pd.concat(res)\n",
    "\n",
    "del res\n",
    "gc.collect()"
   ]
  },
  {
   "cell_type": "code",
   "execution_count": 29,
   "metadata": {},
   "outputs": [],
   "source": [
    "# запись из-за который возникала ошибка\n",
    "df_bad_record = pd.DataFrame(\n",
    "    {\n",
    "        \"id\": 18536837,\n",
    "        \"title\": \"Как мне получить субсидии на ком. платежи, если я ухаживаю за пожилым человеком старше 80 лет.\",\n",
    "        \"description\": \"Как мне получить субсидии на ком. платежи, если я ухаживаю за пожилым человеком старше 80 лет.\",\n",
    "        \"answers\": [\n",
    "            [\n",
    "                {\n",
    "                    \"user_name\": \"Парфенов В.Н.\",\n",
    "                    \"status\": \"Юрист\",\n",
    "                    \"rating\": 4.6,\n",
    "                    \"text\": \"К сожалению, то что вы ухаживаете за пожилым человеком старше 80 лет.-не является основанием для получения субсидии на оплату коммунальных услуг стст 153-155 ЖК РФ.\",\n",
    "                }\n",
    "            ]\n",
    "        ],\n",
    "    }\n",
    ")\n",
    "df = pd.concat([df, df_bad_record])"
   ]
  },
  {
   "cell_type": "code",
   "execution_count": 30,
   "metadata": {},
   "outputs": [
    {
     "data": {
      "text/html": [
       "<div>\n",
       "<style scoped>\n",
       "    .dataframe tbody tr th:only-of-type {\n",
       "        vertical-align: middle;\n",
       "    }\n",
       "\n",
       "    .dataframe tbody tr th {\n",
       "        vertical-align: top;\n",
       "    }\n",
       "\n",
       "    .dataframe thead th {\n",
       "        text-align: right;\n",
       "    }\n",
       "</style>\n",
       "<table border=\"1\" class=\"dataframe\">\n",
       "  <thead>\n",
       "    <tr style=\"text-align: right;\">\n",
       "      <th></th>\n",
       "      <th>id</th>\n",
       "      <th>title</th>\n",
       "      <th>description</th>\n",
       "      <th>answers</th>\n",
       "    </tr>\n",
       "  </thead>\n",
       "  <tbody>\n",
       "    <tr>\n",
       "      <th>0</th>\n",
       "      <td>16420931</td>\n",
       "      <td>Необходимость работы сверх установленного граф...</td>\n",
       "      <td>Я работы в мосметро в ПТБ, и график у меня сме...</td>\n",
       "      <td>[{'user_name': 'Чередниченко В.А.', 'status': ...</td>\n",
       "    </tr>\n",
       "    <tr>\n",
       "      <th>1</th>\n",
       "      <td>16420932</td>\n",
       "      <td>Хочу сестру лишить родительских прав, но не хо...</td>\n",
       "      <td>Хочу сестру лешить родительских прав,  но не х...</td>\n",
       "      <td>[{'user_name': 'Тома А. В.', 'status': 'Юрист'...</td>\n",
       "    </tr>\n",
       "    <tr>\n",
       "      <th>2</th>\n",
       "      <td>16420933</td>\n",
       "      <td>Можно ли при вступлении в наследство у нотариу...</td>\n",
       "      <td>Можно ли при вступлении в наследство  у нотари...</td>\n",
       "      <td>[{'user_name': 'Елисеева Е. Е.', 'status': 'Юр...</td>\n",
       "    </tr>\n",
       "    <tr>\n",
       "      <th>3</th>\n",
       "      <td>16420940</td>\n",
       "      <td>Вопрос о льготах на оплату детского сада для д...</td>\n",
       "      <td>У меня такой вопрос у меня 2 детей. У меня был...</td>\n",
       "      <td>[{'user_name': 'Ростовцев В. В.', 'status': 'Ю...</td>\n",
       "    </tr>\n",
       "    <tr>\n",
       "      <th>4</th>\n",
       "      <td>16420941</td>\n",
       "      <td>Будут ли приходить штрафы с камер видео-фото н...</td>\n",
       "      <td>Если выписали протокол за тонировку  на машину...</td>\n",
       "      <td>[{'user_name': 'Попов П. Е.', 'status': 'Юрист...</td>\n",
       "    </tr>\n",
       "  </tbody>\n",
       "</table>\n",
       "</div>"
      ],
      "text/plain": [
       "         id                                              title  \\\n",
       "0  16420931  Необходимость работы сверх установленного граф...   \n",
       "1  16420932  Хочу сестру лишить родительских прав, но не хо...   \n",
       "2  16420933  Можно ли при вступлении в наследство у нотариу...   \n",
       "3  16420940  Вопрос о льготах на оплату детского сада для д...   \n",
       "4  16420941  Будут ли приходить штрафы с камер видео-фото н...   \n",
       "\n",
       "                                         description  \\\n",
       "0  Я работы в мосметро в ПТБ, и график у меня сме...   \n",
       "1  Хочу сестру лешить родительских прав,  но не х...   \n",
       "2  Можно ли при вступлении в наследство  у нотари...   \n",
       "3  У меня такой вопрос у меня 2 детей. У меня был...   \n",
       "4  Если выписали протокол за тонировку  на машину...   \n",
       "\n",
       "                                             answers  \n",
       "0  [{'user_name': 'Чередниченко В.А.', 'status': ...  \n",
       "1  [{'user_name': 'Тома А. В.', 'status': 'Юрист'...  \n",
       "2  [{'user_name': 'Елисеева Е. Е.', 'status': 'Юр...  \n",
       "3  [{'user_name': 'Ростовцев В. В.', 'status': 'Ю...  \n",
       "4  [{'user_name': 'Попов П. Е.', 'status': 'Юрист...  "
      ]
     },
     "execution_count": 30,
     "metadata": {},
     "output_type": "execute_result"
    }
   ],
   "source": [
    "df.head(5)"
   ]
  },
  {
   "cell_type": "code",
   "execution_count": 31,
   "metadata": {},
   "outputs": [
    {
     "name": "stdout",
     "output_type": "stream",
     "text": [
      "Может ли адвокат подать исковое заявление с предоставлением копии, а предоставить для сверки оригиналы  после подачи иска.\n"
     ]
    }
   ],
   "source": [
    "print(df[\"description\"].sample().to_list()[0])"
   ]
  },
  {
   "cell_type": "code",
   "execution_count": 32,
   "metadata": {},
   "outputs": [
    {
     "data": {
      "text/plain": [
       "'Я работы в мосметро в ПТБ, и график у меня сменный 12 часов! В месяц выходит 186 часов и они не вмещаются в во все рабочие дни и ставят нам не 12 часов а 13 часов а если не хочешь дорабатывать, выходи в выходной день! Скажите, кто прав и законно ли все это? Потому как в трудовом договоре  честно написано-день 12, ночь 12, отсыпной и выходной! Спасибо.'"
      ]
     },
     "execution_count": 32,
     "metadata": {},
     "output_type": "execute_result"
    }
   ],
   "source": [
    "df[\"description\"].iloc[0]"
   ]
  },
  {
   "cell_type": "markdown",
   "metadata": {},
   "source": [
    "### Анализ датасета"
   ]
  },
  {
   "cell_type": "code",
   "execution_count": 33,
   "metadata": {},
   "outputs": [
    {
     "name": "stdout",
     "output_type": "stream",
     "text": [
      "Всего вопросов: 11,292,803\n"
     ]
    }
   ],
   "source": [
    "print(f\"Всего вопросов: {df.shape[0]:,}\")"
   ]
  },
  {
   "cell_type": "markdown",
   "metadata": {},
   "source": [
    "Собираем статистику по вопросам и ответам:\n",
    "- сколько и кто отвечал\n",
    "- распределение рейтинга\n"
   ]
  },
  {
   "cell_type": "code",
   "execution_count": 34,
   "metadata": {},
   "outputs": [],
   "source": [
    "counter_expert = []\n",
    "counter_rating = []\n",
    "counter_len_chat = []\n",
    "author_in_chat = []\n",
    "\n",
    "\n",
    "def stat(answers):\n",
    "    answers = list(answers)\n",
    "    len_answers = len(answers)\n",
    "\n",
    "    counter_len_chat.append(len_answers)\n",
    "    try:\n",
    "        counter_expert.extend([i[\"status\"] for i in answers])\n",
    "        counter_rating.extend([i[\"rating\"] for i in answers])\n",
    "        for i in answers:\n",
    "            if i[\"status\"] == \"Автор вопроса\":\n",
    "                author_in_chat.append(True)\n",
    "                break\n",
    "        else:\n",
    "            author_in_chat.append(False)\n",
    "    except:\n",
    "        print(answers)"
   ]
  },
  {
   "cell_type": "code",
   "execution_count": 35,
   "metadata": {},
   "outputs": [
    {
     "name": "stderr",
     "output_type": "stream",
     "text": [
      "100%|██████████| 11292803/11292803 [00:33<00:00, 333173.05it/s]\n"
     ]
    }
   ],
   "source": [
    "for i in tqdm(df[\"answers\"].to_list()):\n",
    "    stat(i)"
   ]
  },
  {
   "cell_type": "code",
   "execution_count": 36,
   "metadata": {},
   "outputs": [
    {
     "data": {
      "text/plain": [
       " 1    0.581362\n",
       " 2    0.214937\n",
       " 3    0.094587\n",
       " 4    0.044428\n",
       "-1    0.040818\n",
       " 5    0.023868\n",
       "Name: proportion, dtype: float64"
      ]
     },
     "execution_count": 36,
     "metadata": {},
     "output_type": "execute_result"
    }
   ],
   "source": [
    "counter_len_chat_series = pd.Series(\n",
    "    [i if i in [1, 2, 3, 4, 5] else -1 for i in counter_len_chat]\n",
    ")\n",
    "author_in_chat_series = pd.Series(author_in_chat)\n",
    "\n",
    "counter_len_chat_series.value_counts(normalize=True)"
   ]
  },
  {
   "cell_type": "code",
   "execution_count": 37,
   "metadata": {},
   "outputs": [
    {
     "data": {
      "text/plain": [
       "False    0.916276\n",
       "True     0.083724\n",
       "Name: proportion, dtype: float64"
      ]
     },
     "execution_count": 37,
     "metadata": {},
     "output_type": "execute_result"
    }
   ],
   "source": [
    "author_in_chat_series.value_counts(normalize=True)"
   ]
  },
  {
   "cell_type": "code",
   "execution_count": 38,
   "metadata": {},
   "outputs": [],
   "source": [
    "def norm(answers, description):\n",
    "    answers = list(answers)\n",
    "    try:\n",
    "        len_answ = len(answers)\n",
    "        rating = answers[0][\"rating\"]\n",
    "        text = answers[0][\"text\"]\n",
    "        len_description = len(description)\n",
    "        len_text = len(text)\n",
    "    except:\n",
    "        len_answ, rating, text, len_description, len_text = None, None, None, None, None\n",
    "    return len_answ, rating, text, len_description, len_text"
   ]
  },
  {
   "cell_type": "code",
   "execution_count": 39,
   "metadata": {},
   "outputs": [
    {
     "data": {
      "text/plain": [
       "11292803"
      ]
     },
     "execution_count": 39,
     "metadata": {},
     "output_type": "execute_result"
    }
   ],
   "source": [
    "len(author_in_chat)"
   ]
  },
  {
   "cell_type": "code",
   "execution_count": 40,
   "metadata": {},
   "outputs": [],
   "source": [
    "df[\"author_in_chat\"] = author_in_chat\n",
    "df[\"counter_len_chat\"] = counter_len_chat\n",
    "df[\"counter_len_chat_bins\"] = counter_len_chat_series"
   ]
  },
  {
   "cell_type": "code",
   "execution_count": 41,
   "metadata": {},
   "outputs": [
    {
     "data": {
      "text/html": [
       "<div>\n",
       "<style scoped>\n",
       "    .dataframe tbody tr th:only-of-type {\n",
       "        vertical-align: middle;\n",
       "    }\n",
       "\n",
       "    .dataframe tbody tr th {\n",
       "        vertical-align: top;\n",
       "    }\n",
       "\n",
       "    .dataframe thead th {\n",
       "        text-align: right;\n",
       "    }\n",
       "</style>\n",
       "<table border=\"1\" class=\"dataframe\">\n",
       "  <thead>\n",
       "    <tr style=\"text-align: right;\">\n",
       "      <th></th>\n",
       "      <th>id</th>\n",
       "      <th>title</th>\n",
       "      <th>description</th>\n",
       "      <th>answers</th>\n",
       "      <th>author_in_chat</th>\n",
       "      <th>counter_len_chat</th>\n",
       "      <th>counter_len_chat_bins</th>\n",
       "    </tr>\n",
       "  </thead>\n",
       "  <tbody>\n",
       "    <tr>\n",
       "      <th>0</th>\n",
       "      <td>16420931</td>\n",
       "      <td>Необходимость работы сверх установленного граф...</td>\n",
       "      <td>Я работы в мосметро в ПТБ, и график у меня сме...</td>\n",
       "      <td>[{'user_name': 'Чередниченко В.А.', 'status': ...</td>\n",
       "      <td>False</td>\n",
       "      <td>1</td>\n",
       "      <td>1</td>\n",
       "    </tr>\n",
       "    <tr>\n",
       "      <th>1</th>\n",
       "      <td>16420932</td>\n",
       "      <td>Хочу сестру лишить родительских прав, но не хо...</td>\n",
       "      <td>Хочу сестру лешить родительских прав,  но не х...</td>\n",
       "      <td>[{'user_name': 'Тома А. В.', 'status': 'Юрист'...</td>\n",
       "      <td>False</td>\n",
       "      <td>1</td>\n",
       "      <td>1</td>\n",
       "    </tr>\n",
       "    <tr>\n",
       "      <th>2</th>\n",
       "      <td>16420933</td>\n",
       "      <td>Можно ли при вступлении в наследство у нотариу...</td>\n",
       "      <td>Можно ли при вступлении в наследство  у нотари...</td>\n",
       "      <td>[{'user_name': 'Елисеева Е. Е.', 'status': 'Юр...</td>\n",
       "      <td>False</td>\n",
       "      <td>2</td>\n",
       "      <td>2</td>\n",
       "    </tr>\n",
       "    <tr>\n",
       "      <th>3</th>\n",
       "      <td>16420940</td>\n",
       "      <td>Вопрос о льготах на оплату детского сада для д...</td>\n",
       "      <td>У меня такой вопрос у меня 2 детей. У меня был...</td>\n",
       "      <td>[{'user_name': 'Ростовцев В. В.', 'status': 'Ю...</td>\n",
       "      <td>False</td>\n",
       "      <td>3</td>\n",
       "      <td>3</td>\n",
       "    </tr>\n",
       "    <tr>\n",
       "      <th>4</th>\n",
       "      <td>16420941</td>\n",
       "      <td>Будут ли приходить штрафы с камер видео-фото н...</td>\n",
       "      <td>Если выписали протокол за тонировку  на машину...</td>\n",
       "      <td>[{'user_name': 'Попов П. Е.', 'status': 'Юрист...</td>\n",
       "      <td>True</td>\n",
       "      <td>2</td>\n",
       "      <td>2</td>\n",
       "    </tr>\n",
       "  </tbody>\n",
       "</table>\n",
       "</div>"
      ],
      "text/plain": [
       "         id                                              title  \\\n",
       "0  16420931  Необходимость работы сверх установленного граф...   \n",
       "1  16420932  Хочу сестру лишить родительских прав, но не хо...   \n",
       "2  16420933  Можно ли при вступлении в наследство у нотариу...   \n",
       "3  16420940  Вопрос о льготах на оплату детского сада для д...   \n",
       "4  16420941  Будут ли приходить штрафы с камер видео-фото н...   \n",
       "\n",
       "                                         description  \\\n",
       "0  Я работы в мосметро в ПТБ, и график у меня сме...   \n",
       "1  Хочу сестру лешить родительских прав,  но не х...   \n",
       "2  Можно ли при вступлении в наследство  у нотари...   \n",
       "3  У меня такой вопрос у меня 2 детей. У меня был...   \n",
       "4  Если выписали протокол за тонировку  на машину...   \n",
       "\n",
       "                                             answers  author_in_chat  \\\n",
       "0  [{'user_name': 'Чередниченко В.А.', 'status': ...           False   \n",
       "1  [{'user_name': 'Тома А. В.', 'status': 'Юрист'...           False   \n",
       "2  [{'user_name': 'Елисеева Е. Е.', 'status': 'Юр...           False   \n",
       "3  [{'user_name': 'Ростовцев В. В.', 'status': 'Ю...           False   \n",
       "4  [{'user_name': 'Попов П. Е.', 'status': 'Юрист...            True   \n",
       "\n",
       "   counter_len_chat  counter_len_chat_bins  \n",
       "0                 1                      1  \n",
       "1                 1                      1  \n",
       "2                 2                      2  \n",
       "3                 3                      3  \n",
       "4                 2                      2  "
      ]
     },
     "execution_count": 41,
     "metadata": {},
     "output_type": "execute_result"
    }
   ],
   "source": [
    "df.head()"
   ]
  },
  {
   "cell_type": "code",
   "execution_count": 42,
   "metadata": {},
   "outputs": [],
   "source": [
    "df_short = df[(~df[\"author_in_chat\"]) & (df[\"counter_len_chat\"] < 6)]"
   ]
  },
  {
   "cell_type": "code",
   "execution_count": 43,
   "metadata": {},
   "outputs": [
    {
     "data": {
      "text/plain": [
       "1153658"
      ]
     },
     "execution_count": 43,
     "metadata": {},
     "output_type": "execute_result"
    }
   ],
   "source": [
    "df.shape[0] - df_short.shape[0]"
   ]
  },
  {
   "cell_type": "code",
   "execution_count": 44,
   "metadata": {},
   "outputs": [
    {
     "data": {
      "text/plain": [
       "(10139145, 7)"
      ]
     },
     "execution_count": 44,
     "metadata": {},
     "output_type": "execute_result"
    }
   ],
   "source": [
    "df_short.shape"
   ]
  },
  {
   "cell_type": "code",
   "execution_count": 45,
   "metadata": {},
   "outputs": [
    {
     "data": {
      "text/plain": [
       "{'user_name': 'Чередниченко В.А.',\n",
       " 'status': 'Адвокат',\n",
       " 'rating': 3.8,\n",
       " 'text': 'Полагаю, что незаконно, но для более конкретного ответа нужно смотреть ваши локальные внутренние документы организации, а также ваш трудовой договор. Как вариант, вы можете обратиться с жалобой в трудовую инспекцию, чтобы провела документальную проверку. Но это конфликт с работодателем, так что нужно быть готовым к любым последствиям.'}"
      ]
     },
     "execution_count": 45,
     "metadata": {},
     "output_type": "execute_result"
    }
   ],
   "source": [
    "df_short[\"answers\"].iloc[0][0]"
   ]
  },
  {
   "cell_type": "code",
   "execution_count": 46,
   "metadata": {},
   "outputs": [
    {
     "data": {
      "text/plain": [
       "array([{'user_name': 'Иванова Е. А.', 'status': 'Юрист', 'rating': 0.0, 'text': 'Бухгалтерия учреждения алиментные выплаты осуществляет на основании исполнительного документа. Поучить исполнительный документ можно двумя способами.Составить алиментное соглашение. Либо через суд.'},\n",
       "       {'user_name': 'Мерный М. А.', 'status': 'Юрист', 'rating': 1.8, 'text': 'Вы здесь не пишите ситуациютполностью и коллеги не могут ответить. Я вам всё объяснил. Вы время теряете драгоценное. Надо подавать.'}],\n",
       "      dtype=object)"
      ]
     },
     "execution_count": 46,
     "metadata": {},
     "output_type": "execute_result"
    }
   ],
   "source": [
    "df_short[\"answers\"].iloc[11]"
   ]
  },
  {
   "cell_type": "code",
   "execution_count": 47,
   "metadata": {},
   "outputs": [
    {
     "name": "stderr",
     "output_type": "stream",
     "text": [
      "/tmp/ipykernel_497789/4077437054.py:11: SettingWithCopyWarning: \n",
      "A value is trying to be set on a copy of a slice from a DataFrame.\n",
      "Try using .loc[row_indexer,col_indexer] = value instead\n",
      "\n",
      "See the caveats in the documentation: https://pandas.pydata.org/pandas-docs/stable/user_guide/indexing.html#returning-a-view-versus-a-copy\n",
      "  df_short[[\"answers_max\", \"max_rating\"]] = df_short.apply(\n",
      "/tmp/ipykernel_497789/4077437054.py:11: SettingWithCopyWarning: \n",
      "A value is trying to be set on a copy of a slice from a DataFrame.\n",
      "Try using .loc[row_indexer,col_indexer] = value instead\n",
      "\n",
      "See the caveats in the documentation: https://pandas.pydata.org/pandas-docs/stable/user_guide/indexing.html#returning-a-view-versus-a-copy\n",
      "  df_short[[\"answers_max\", \"max_rating\"]] = df_short.apply(\n"
     ]
    }
   ],
   "source": [
    "def func(answers):\n",
    "    max_index = 0\n",
    "    max_rating = 0\n",
    "    for index, i in enumerate(answers):\n",
    "        if max_rating < i[\"rating\"]:\n",
    "            max_index = index\n",
    "            max_rating = i[\"rating\"]\n",
    "    return answers[max_index], max_rating\n",
    "\n",
    "\n",
    "df_short[[\"answers_max\", \"max_rating\"]] = df_short.apply(\n",
    "    lambda x: func(x[\"answers\"]), result_type=\"expand\", axis=1\n",
    ")"
   ]
  },
  {
   "cell_type": "code",
   "execution_count": 50,
   "metadata": {},
   "outputs": [],
   "source": [
    "df_short_copy = df_short"
   ]
  },
  {
   "cell_type": "code",
   "execution_count": 51,
   "metadata": {},
   "outputs": [
    {
     "data": {
      "text/html": [
       "<div>\n",
       "<style scoped>\n",
       "    .dataframe tbody tr th:only-of-type {\n",
       "        vertical-align: middle;\n",
       "    }\n",
       "\n",
       "    .dataframe tbody tr th {\n",
       "        vertical-align: top;\n",
       "    }\n",
       "\n",
       "    .dataframe thead th {\n",
       "        text-align: right;\n",
       "    }\n",
       "</style>\n",
       "<table border=\"1\" class=\"dataframe\">\n",
       "  <thead>\n",
       "    <tr style=\"text-align: right;\">\n",
       "      <th></th>\n",
       "      <th>id</th>\n",
       "      <th>title</th>\n",
       "      <th>description</th>\n",
       "      <th>answers</th>\n",
       "      <th>author_in_chat</th>\n",
       "      <th>counter_len_chat</th>\n",
       "      <th>counter_len_chat_bins</th>\n",
       "      <th>answers_max</th>\n",
       "      <th>max_rating</th>\n",
       "    </tr>\n",
       "  </thead>\n",
       "  <tbody>\n",
       "    <tr>\n",
       "      <th>0</th>\n",
       "      <td>16420931</td>\n",
       "      <td>Необходимость работы сверх установленного граф...</td>\n",
       "      <td>Я работы в мосметро в ПТБ, и график у меня сме...</td>\n",
       "      <td>[{'user_name': 'Чередниченко В.А.', 'status': ...</td>\n",
       "      <td>False</td>\n",
       "      <td>1</td>\n",
       "      <td>1</td>\n",
       "      <td>{'user_name': 'Чередниченко В.А.', 'status': '...</td>\n",
       "      <td>3.8</td>\n",
       "    </tr>\n",
       "    <tr>\n",
       "      <th>1</th>\n",
       "      <td>16420932</td>\n",
       "      <td>Хочу сестру лишить родительских прав, но не хо...</td>\n",
       "      <td>Хочу сестру лешить родительских прав,  но не х...</td>\n",
       "      <td>[{'user_name': 'Тома А. В.', 'status': 'Юрист'...</td>\n",
       "      <td>False</td>\n",
       "      <td>1</td>\n",
       "      <td>1</td>\n",
       "      <td>{'user_name': 'Тома А. В.', 'status': 'Юрист',...</td>\n",
       "      <td>0.0</td>\n",
       "    </tr>\n",
       "    <tr>\n",
       "      <th>2</th>\n",
       "      <td>16420933</td>\n",
       "      <td>Можно ли при вступлении в наследство у нотариу...</td>\n",
       "      <td>Можно ли при вступлении в наследство  у нотари...</td>\n",
       "      <td>[{'user_name': 'Елисеева Е. Е.', 'status': 'Юр...</td>\n",
       "      <td>False</td>\n",
       "      <td>2</td>\n",
       "      <td>2</td>\n",
       "      <td>{'user_name': 'Гудкова Г.В.', 'status': 'Адвок...</td>\n",
       "      <td>1.5</td>\n",
       "    </tr>\n",
       "  </tbody>\n",
       "</table>\n",
       "</div>"
      ],
      "text/plain": [
       "         id                                              title  \\\n",
       "0  16420931  Необходимость работы сверх установленного граф...   \n",
       "1  16420932  Хочу сестру лишить родительских прав, но не хо...   \n",
       "2  16420933  Можно ли при вступлении в наследство у нотариу...   \n",
       "\n",
       "                                         description  \\\n",
       "0  Я работы в мосметро в ПТБ, и график у меня сме...   \n",
       "1  Хочу сестру лешить родительских прав,  но не х...   \n",
       "2  Можно ли при вступлении в наследство  у нотари...   \n",
       "\n",
       "                                             answers  author_in_chat  \\\n",
       "0  [{'user_name': 'Чередниченко В.А.', 'status': ...           False   \n",
       "1  [{'user_name': 'Тома А. В.', 'status': 'Юрист'...           False   \n",
       "2  [{'user_name': 'Елисеева Е. Е.', 'status': 'Юр...           False   \n",
       "\n",
       "   counter_len_chat  counter_len_chat_bins  \\\n",
       "0                 1                      1   \n",
       "1                 1                      1   \n",
       "2                 2                      2   \n",
       "\n",
       "                                         answers_max  max_rating  \n",
       "0  {'user_name': 'Чередниченко В.А.', 'status': '...         3.8  \n",
       "1  {'user_name': 'Тома А. В.', 'status': 'Юрист',...         0.0  \n",
       "2  {'user_name': 'Гудкова Г.В.', 'status': 'Адвок...         1.5  "
      ]
     },
     "execution_count": 51,
     "metadata": {},
     "output_type": "execute_result"
    }
   ],
   "source": [
    "df_short.head(3)"
   ]
  },
  {
   "cell_type": "code",
   "execution_count": 58,
   "metadata": {},
   "outputs": [],
   "source": [
    "df_short = df_short_copy[[\"description\", \"answers_max\", \"id\"]]"
   ]
  },
  {
   "cell_type": "code",
   "execution_count": 59,
   "metadata": {},
   "outputs": [
    {
     "data": {
      "text/plain": [
       "(2, 1024)"
      ]
     },
     "execution_count": 59,
     "metadata": {},
     "output_type": "execute_result"
    }
   ],
   "source": [
    "URL = \"http://127.0.0.1:8080/embed\"\n",
    "\n",
    "\n",
    "def emb(texts):\n",
    "    return requests.post(URL, json={\"inputs\": texts}).json()\n",
    "\n",
    "\n",
    "len(emb([\"test1\", \"test2\"])), len(emb([\"test1\", \"test2\"])[0])"
   ]
  },
  {
   "cell_type": "code",
   "execution_count": 1,
   "metadata": {},
   "outputs": [],
   "source": [
    "from qdrant_client import QdrantClient, models\n",
    "\n",
    "client = QdrantClient(url=\"http://localhost:6333\")\n",
    "\n",
    "COLLECTION_NAME = \"questions\""
   ]
  },
  {
   "cell_type": "code",
   "execution_count": 2,
   "metadata": {},
   "outputs": [
    {
     "data": {
      "text/plain": [
       "True"
      ]
     },
     "execution_count": 2,
     "metadata": {},
     "output_type": "execute_result"
    }
   ],
   "source": [
    "client.delete_collection(collection_name=COLLECTION_NAME)"
   ]
  },
  {
   "cell_type": "code",
   "execution_count": 62,
   "metadata": {},
   "outputs": [
    {
     "data": {
      "text/plain": [
       "True"
      ]
     },
     "execution_count": 62,
     "metadata": {},
     "output_type": "execute_result"
    }
   ],
   "source": [
    "client.create_collection(\n",
    "    collection_name=COLLECTION_NAME,\n",
    "    vectors_config=models.VectorParams(\n",
    "        size=len(emb([\"test1\", \"test2\"])[0]), distance=models.Distance.COSINE\n",
    "    ),\n",
    ")"
   ]
  },
  {
   "cell_type": "code",
   "execution_count": 63,
   "metadata": {},
   "outputs": [
    {
     "name": "stderr",
     "output_type": "stream",
     "text": [
      "  0%|          | 108/316849 [00:11<9:38:42,  9.12it/s]\n"
     ]
    },
    {
     "ename": "KeyboardInterrupt",
     "evalue": "",
     "output_type": "error",
     "traceback": [
      "\u001b[0;31m---------------------------------------------------------------------------\u001b[0m",
      "\u001b[0;31mKeyboardInterrupt\u001b[0m                         Traceback (most recent call last)",
      "Cell \u001b[0;32mIn[63], line 18\u001b[0m\n\u001b[1;32m      6\u001b[0m index0 \u001b[38;5;241m=\u001b[39m index1\n\u001b[1;32m      8\u001b[0m batch \u001b[38;5;241m=\u001b[39m [\n\u001b[1;32m      9\u001b[0m     {\n\u001b[1;32m     10\u001b[0m         \u001b[38;5;124m\"\u001b[39m\u001b[38;5;124mid\u001b[39m\u001b[38;5;124m\"\u001b[39m: i[\u001b[38;5;124m\"\u001b[39m\u001b[38;5;124mid\u001b[39m\u001b[38;5;124m\"\u001b[39m],\n\u001b[0;32m   (...)\u001b[0m\n\u001b[1;32m     15\u001b[0m     \u001b[38;5;28;01mfor\u001b[39;00m i \u001b[38;5;129;01min\u001b[39;00m batch\n\u001b[1;32m     16\u001b[0m ]\n\u001b[0;32m---> 18\u001b[0m embeddings_question \u001b[38;5;241m=\u001b[39m \u001b[43memb\u001b[49m\u001b[43m(\u001b[49m\u001b[43m[\u001b[49m\u001b[43mi\u001b[49m\u001b[43m[\u001b[49m\u001b[38;5;124;43m\"\u001b[39;49m\u001b[38;5;124;43mquestion\u001b[39;49m\u001b[38;5;124;43m\"\u001b[39;49m\u001b[43m]\u001b[49m\u001b[43m \u001b[49m\u001b[38;5;28;43;01mfor\u001b[39;49;00m\u001b[43m \u001b[49m\u001b[43mi\u001b[49m\u001b[43m \u001b[49m\u001b[38;5;129;43;01min\u001b[39;49;00m\u001b[43m \u001b[49m\u001b[43mbatch\u001b[49m\u001b[43m]\u001b[49m\u001b[43m)\u001b[49m\n\u001b[1;32m     19\u001b[0m batch_points \u001b[38;5;241m=\u001b[39m [\n\u001b[1;32m     20\u001b[0m     models\u001b[38;5;241m.\u001b[39mPointStruct(\n\u001b[1;32m     21\u001b[0m         \u001b[38;5;28mid\u001b[39m\u001b[38;5;241m=\u001b[39mrecord[\u001b[38;5;124m\"\u001b[39m\u001b[38;5;124mid\u001b[39m\u001b[38;5;124m\"\u001b[39m],\n\u001b[0;32m   (...)\u001b[0m\n\u001b[1;32m     29\u001b[0m     \u001b[38;5;28;01mfor\u001b[39;00m emb, record \u001b[38;5;129;01min\u001b[39;00m \u001b[38;5;28mzip\u001b[39m(embeddings_question, batch)\n\u001b[1;32m     30\u001b[0m ]\n\u001b[1;32m     32\u001b[0m client\u001b[38;5;241m.\u001b[39mupsert(\n\u001b[1;32m     33\u001b[0m     collection_name\u001b[38;5;241m=\u001b[39mCOLLECTION_NAME,\n\u001b[1;32m     34\u001b[0m     points\u001b[38;5;241m=\u001b[39mbatch_points,\n\u001b[1;32m     35\u001b[0m )\n",
      "Cell \u001b[0;32mIn[59], line 5\u001b[0m, in \u001b[0;36memb\u001b[0;34m(texts)\u001b[0m\n\u001b[1;32m      4\u001b[0m \u001b[38;5;28;01mdef\u001b[39;00m \u001b[38;5;21memb\u001b[39m(texts):\n\u001b[0;32m----> 5\u001b[0m     \u001b[38;5;28;01mreturn\u001b[39;00m \u001b[43mrequests\u001b[49m\u001b[38;5;241;43m.\u001b[39;49m\u001b[43mpost\u001b[49m\u001b[43m(\u001b[49m\u001b[43mURL\u001b[49m\u001b[43m,\u001b[49m\u001b[43m \u001b[49m\u001b[43mjson\u001b[49m\u001b[38;5;241;43m=\u001b[39;49m\u001b[43m{\u001b[49m\u001b[38;5;124;43m\"\u001b[39;49m\u001b[38;5;124;43minputs\u001b[39;49m\u001b[38;5;124;43m\"\u001b[39;49m\u001b[43m:\u001b[49m\u001b[43m \u001b[49m\u001b[43mtexts\u001b[49m\u001b[43m}\u001b[49m\u001b[43m)\u001b[49m\u001b[38;5;241m.\u001b[39mjson()\n",
      "File \u001b[0;32m/home/harddisk/projects/legal_ml/.venv/lib/python3.10/site-packages/requests/api.py:115\u001b[0m, in \u001b[0;36mpost\u001b[0;34m(url, data, json, **kwargs)\u001b[0m\n\u001b[1;32m    103\u001b[0m \u001b[38;5;28;01mdef\u001b[39;00m \u001b[38;5;21mpost\u001b[39m(url, data\u001b[38;5;241m=\u001b[39m\u001b[38;5;28;01mNone\u001b[39;00m, json\u001b[38;5;241m=\u001b[39m\u001b[38;5;28;01mNone\u001b[39;00m, \u001b[38;5;241m*\u001b[39m\u001b[38;5;241m*\u001b[39mkwargs):\n\u001b[1;32m    104\u001b[0m \u001b[38;5;250m    \u001b[39m\u001b[38;5;124mr\u001b[39m\u001b[38;5;124;03m\"\"\"Sends a POST request.\u001b[39;00m\n\u001b[1;32m    105\u001b[0m \n\u001b[1;32m    106\u001b[0m \u001b[38;5;124;03m    :param url: URL for the new :class:`Request` object.\u001b[39;00m\n\u001b[0;32m   (...)\u001b[0m\n\u001b[1;32m    112\u001b[0m \u001b[38;5;124;03m    :rtype: requests.Response\u001b[39;00m\n\u001b[1;32m    113\u001b[0m \u001b[38;5;124;03m    \"\"\"\u001b[39;00m\n\u001b[0;32m--> 115\u001b[0m     \u001b[38;5;28;01mreturn\u001b[39;00m \u001b[43mrequest\u001b[49m\u001b[43m(\u001b[49m\u001b[38;5;124;43m\"\u001b[39;49m\u001b[38;5;124;43mpost\u001b[39;49m\u001b[38;5;124;43m\"\u001b[39;49m\u001b[43m,\u001b[49m\u001b[43m \u001b[49m\u001b[43murl\u001b[49m\u001b[43m,\u001b[49m\u001b[43m \u001b[49m\u001b[43mdata\u001b[49m\u001b[38;5;241;43m=\u001b[39;49m\u001b[43mdata\u001b[49m\u001b[43m,\u001b[49m\u001b[43m \u001b[49m\u001b[43mjson\u001b[49m\u001b[38;5;241;43m=\u001b[39;49m\u001b[43mjson\u001b[49m\u001b[43m,\u001b[49m\u001b[43m \u001b[49m\u001b[38;5;241;43m*\u001b[39;49m\u001b[38;5;241;43m*\u001b[39;49m\u001b[43mkwargs\u001b[49m\u001b[43m)\u001b[49m\n",
      "File \u001b[0;32m/home/harddisk/projects/legal_ml/.venv/lib/python3.10/site-packages/requests/api.py:59\u001b[0m, in \u001b[0;36mrequest\u001b[0;34m(method, url, **kwargs)\u001b[0m\n\u001b[1;32m     55\u001b[0m \u001b[38;5;66;03m# By using the 'with' statement we are sure the session is closed, thus we\u001b[39;00m\n\u001b[1;32m     56\u001b[0m \u001b[38;5;66;03m# avoid leaving sockets open which can trigger a ResourceWarning in some\u001b[39;00m\n\u001b[1;32m     57\u001b[0m \u001b[38;5;66;03m# cases, and look like a memory leak in others.\u001b[39;00m\n\u001b[1;32m     58\u001b[0m \u001b[38;5;28;01mwith\u001b[39;00m sessions\u001b[38;5;241m.\u001b[39mSession() \u001b[38;5;28;01mas\u001b[39;00m session:\n\u001b[0;32m---> 59\u001b[0m     \u001b[38;5;28;01mreturn\u001b[39;00m \u001b[43msession\u001b[49m\u001b[38;5;241;43m.\u001b[39;49m\u001b[43mrequest\u001b[49m\u001b[43m(\u001b[49m\u001b[43mmethod\u001b[49m\u001b[38;5;241;43m=\u001b[39;49m\u001b[43mmethod\u001b[49m\u001b[43m,\u001b[49m\u001b[43m \u001b[49m\u001b[43murl\u001b[49m\u001b[38;5;241;43m=\u001b[39;49m\u001b[43murl\u001b[49m\u001b[43m,\u001b[49m\u001b[43m \u001b[49m\u001b[38;5;241;43m*\u001b[39;49m\u001b[38;5;241;43m*\u001b[39;49m\u001b[43mkwargs\u001b[49m\u001b[43m)\u001b[49m\n",
      "File \u001b[0;32m/home/harddisk/projects/legal_ml/.venv/lib/python3.10/site-packages/requests/sessions.py:575\u001b[0m, in \u001b[0;36mSession.request\u001b[0;34m(self, method, url, params, data, headers, cookies, files, auth, timeout, allow_redirects, proxies, hooks, stream, verify, cert, json)\u001b[0m\n\u001b[1;32m    562\u001b[0m \u001b[38;5;66;03m# Create the Request.\u001b[39;00m\n\u001b[1;32m    563\u001b[0m req \u001b[38;5;241m=\u001b[39m Request(\n\u001b[1;32m    564\u001b[0m     method\u001b[38;5;241m=\u001b[39mmethod\u001b[38;5;241m.\u001b[39mupper(),\n\u001b[1;32m    565\u001b[0m     url\u001b[38;5;241m=\u001b[39murl,\n\u001b[0;32m   (...)\u001b[0m\n\u001b[1;32m    573\u001b[0m     hooks\u001b[38;5;241m=\u001b[39mhooks,\n\u001b[1;32m    574\u001b[0m )\n\u001b[0;32m--> 575\u001b[0m prep \u001b[38;5;241m=\u001b[39m \u001b[38;5;28;43mself\u001b[39;49m\u001b[38;5;241;43m.\u001b[39;49m\u001b[43mprepare_request\u001b[49m\u001b[43m(\u001b[49m\u001b[43mreq\u001b[49m\u001b[43m)\u001b[49m\n\u001b[1;32m    577\u001b[0m proxies \u001b[38;5;241m=\u001b[39m proxies \u001b[38;5;129;01mor\u001b[39;00m {}\n\u001b[1;32m    579\u001b[0m settings \u001b[38;5;241m=\u001b[39m \u001b[38;5;28mself\u001b[39m\u001b[38;5;241m.\u001b[39mmerge_environment_settings(\n\u001b[1;32m    580\u001b[0m     prep\u001b[38;5;241m.\u001b[39murl, proxies, stream, verify, cert\n\u001b[1;32m    581\u001b[0m )\n",
      "File \u001b[0;32m/home/harddisk/projects/legal_ml/.venv/lib/python3.10/site-packages/requests/sessions.py:481\u001b[0m, in \u001b[0;36mSession.prepare_request\u001b[0;34m(self, request)\u001b[0m\n\u001b[1;32m    479\u001b[0m auth \u001b[38;5;241m=\u001b[39m request\u001b[38;5;241m.\u001b[39mauth\n\u001b[1;32m    480\u001b[0m \u001b[38;5;28;01mif\u001b[39;00m \u001b[38;5;28mself\u001b[39m\u001b[38;5;241m.\u001b[39mtrust_env \u001b[38;5;129;01mand\u001b[39;00m \u001b[38;5;129;01mnot\u001b[39;00m auth \u001b[38;5;129;01mand\u001b[39;00m \u001b[38;5;129;01mnot\u001b[39;00m \u001b[38;5;28mself\u001b[39m\u001b[38;5;241m.\u001b[39mauth:\n\u001b[0;32m--> 481\u001b[0m     auth \u001b[38;5;241m=\u001b[39m \u001b[43mget_netrc_auth\u001b[49m\u001b[43m(\u001b[49m\u001b[43mrequest\u001b[49m\u001b[38;5;241;43m.\u001b[39;49m\u001b[43murl\u001b[49m\u001b[43m)\u001b[49m\n\u001b[1;32m    483\u001b[0m p \u001b[38;5;241m=\u001b[39m PreparedRequest()\n\u001b[1;32m    484\u001b[0m p\u001b[38;5;241m.\u001b[39mprepare(\n\u001b[1;32m    485\u001b[0m     method\u001b[38;5;241m=\u001b[39mrequest\u001b[38;5;241m.\u001b[39mmethod\u001b[38;5;241m.\u001b[39mupper(),\n\u001b[1;32m    486\u001b[0m     url\u001b[38;5;241m=\u001b[39mrequest\u001b[38;5;241m.\u001b[39murl,\n\u001b[0;32m   (...)\u001b[0m\n\u001b[1;32m    496\u001b[0m     hooks\u001b[38;5;241m=\u001b[39mmerge_hooks(request\u001b[38;5;241m.\u001b[39mhooks, \u001b[38;5;28mself\u001b[39m\u001b[38;5;241m.\u001b[39mhooks),\n\u001b[1;32m    497\u001b[0m )\n",
      "File \u001b[0;32m/home/harddisk/projects/legal_ml/.venv/lib/python3.10/site-packages/requests/utils.py:220\u001b[0m, in \u001b[0;36mget_netrc_auth\u001b[0;34m(url, raise_errors)\u001b[0m\n\u001b[1;32m    218\u001b[0m \u001b[38;5;28;01mfor\u001b[39;00m f \u001b[38;5;129;01min\u001b[39;00m netrc_locations:\n\u001b[1;32m    219\u001b[0m     \u001b[38;5;28;01mtry\u001b[39;00m:\n\u001b[0;32m--> 220\u001b[0m         loc \u001b[38;5;241m=\u001b[39m \u001b[43mos\u001b[49m\u001b[38;5;241;43m.\u001b[39;49m\u001b[43mpath\u001b[49m\u001b[38;5;241;43m.\u001b[39;49m\u001b[43mexpanduser\u001b[49m\u001b[43m(\u001b[49m\u001b[43mf\u001b[49m\u001b[43m)\u001b[49m\n\u001b[1;32m    221\u001b[0m     \u001b[38;5;28;01mexcept\u001b[39;00m \u001b[38;5;167;01mKeyError\u001b[39;00m:\n\u001b[1;32m    222\u001b[0m         \u001b[38;5;66;03m# os.path.expanduser can fail when $HOME is undefined and\u001b[39;00m\n\u001b[1;32m    223\u001b[0m         \u001b[38;5;66;03m# getpwuid fails. See https://bugs.python.org/issue20164 &\u001b[39;00m\n\u001b[1;32m    224\u001b[0m         \u001b[38;5;66;03m# https://github.com/psf/requests/issues/1846\u001b[39;00m\n\u001b[1;32m    225\u001b[0m         \u001b[38;5;28;01mreturn\u001b[39;00m\n",
      "File \u001b[0;32m/usr/lib/python3.10/posixpath.py:237\u001b[0m, in \u001b[0;36mexpanduser\u001b[0;34m(path)\u001b[0m\n\u001b[1;32m    235\u001b[0m \u001b[38;5;28;01melse\u001b[39;00m:\n\u001b[1;32m    236\u001b[0m     tilde \u001b[38;5;241m=\u001b[39m \u001b[38;5;124m'\u001b[39m\u001b[38;5;124m~\u001b[39m\u001b[38;5;124m'\u001b[39m\n\u001b[0;32m--> 237\u001b[0m \u001b[38;5;28;01mif\u001b[39;00m \u001b[38;5;129;01mnot\u001b[39;00m \u001b[43mpath\u001b[49m\u001b[38;5;241;43m.\u001b[39;49m\u001b[43mstartswith\u001b[49m\u001b[43m(\u001b[49m\u001b[43mtilde\u001b[49m\u001b[43m)\u001b[49m:\n\u001b[1;32m    238\u001b[0m     \u001b[38;5;28;01mreturn\u001b[39;00m path\n\u001b[1;32m    239\u001b[0m sep \u001b[38;5;241m=\u001b[39m _get_sep(path)\n",
      "\u001b[0;31mKeyboardInterrupt\u001b[0m: "
     ]
    }
   ],
   "source": [
    "index0 = 0\n",
    "len_df = len(df_short)\n",
    "batch_size = 32\n",
    "for index1 in tqdm(range(batch_size, len_df + batch_size, batch_size)):\n",
    "    batch = df_short.iloc[index0:index1].to_dict(orient=\"records\")\n",
    "    index0 = index1\n",
    "\n",
    "    batch = [\n",
    "        {\n",
    "            \"id\": i[\"id\"],\n",
    "            \"question\": i[\"description\"],\n",
    "            \"answer\": i[\"answers_max\"][\"text\"],\n",
    "            \"rating\": i[\"answers_max\"][\"rating\"],\n",
    "        }\n",
    "        for i in batch\n",
    "    ]\n",
    "\n",
    "    embeddings_question = emb([i[\"question\"] for i in batch])\n",
    "    batch_points = [\n",
    "        models.PointStruct(\n",
    "            id=record[\"id\"],\n",
    "            payload={\n",
    "                \"question\": record[\"question\"],\n",
    "                \"answer\": record[\"answer\"],\n",
    "                \"rating\": record[\"rating\"],\n",
    "            },\n",
    "            vector=emb,\n",
    "        )\n",
    "        for emb, record in zip(embeddings_question, batch)\n",
    "    ]\n",
    "\n",
    "    client.upsert(\n",
    "        collection_name=COLLECTION_NAME,\n",
    "        points=batch_points,\n",
    "    )"
   ]
  },
  {
   "cell_type": "code",
   "execution_count": null,
   "metadata": {},
   "outputs": [],
   "source": []
  }
 ],
 "metadata": {
  "kernelspec": {
   "display_name": ".venv",
   "language": "python",
   "name": "python3"
  },
  "language_info": {
   "codemirror_mode": {
    "name": "ipython",
    "version": 3
   },
   "file_extension": ".py",
   "mimetype": "text/x-python",
   "name": "python",
   "nbconvert_exporter": "python",
   "pygments_lexer": "ipython3",
   "version": "3.10.12"
  }
 },
 "nbformat": 4,
 "nbformat_minor": 2
}
