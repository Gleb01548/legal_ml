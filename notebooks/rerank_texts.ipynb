{
 "cells": [
  {
   "cell_type": "code",
   "execution_count": 15,
   "metadata": {},
   "outputs": [
    {
     "data": {
      "text/plain": [
       "[SparseEmbedding(values=array([1.68320383, 1.68320383]), indices=array([ 252671796, 1907436970])),\n",
       " SparseEmbedding(values=array([1.67868852, 1.67868852, 1.67868852]), indices=array([252671796, 740001907, 760805627]))]"
      ]
     },
     "execution_count": 15,
     "metadata": {},
     "output_type": "execute_result"
    }
   ],
   "source": [
    "from fastembed import SparseTextEmbedding\n",
    "\n",
    "documents = [\n",
    "    \"Кто ты?\",\n",
    "    \"Кто я сложжж?\",\n",
    "]\n",
    "\n",
    "model = SparseTextEmbedding(model_name=\"Qdrant/bm25\")\n",
    "embeddings = list(model.embed(documents))\n",
    "embeddings"
   ]
  },
  {
   "cell_type": "code",
   "execution_count": 17,
   "metadata": {},
   "outputs": [
    {
     "data": {
      "application/vnd.jupyter.widget-view+json": {
       "model_id": "e469c6afcbe2468bbd81d40982810773",
       "version_major": 2,
       "version_minor": 0
      },
      "text/plain": [
       "Fetching 30 files:   0%|          | 0/30 [00:00<?, ?it/s]"
      ]
     },
     "metadata": {},
     "output_type": "display_data"
    },
    {
     "name": "stderr",
     "output_type": "stream",
     "text": [
      "/home/harddisk/projects/legal_ml/.venv/lib/python3.10/site-packages/FlagEmbedding/BGE_M3/modeling.py:335: FutureWarning: You are using `torch.load` with `weights_only=False` (the current default value), which uses the default pickle module implicitly. It is possible to construct malicious pickle data which will execute arbitrary code during unpickling (See https://github.com/pytorch/pytorch/blob/main/SECURITY.md#untrusted-models for more details). In a future release, the default value for `weights_only` will be flipped to `True`. This limits the functions that could be executed during unpickling. Arbitrary objects will no longer be allowed to be loaded via this mode unless they are explicitly allowlisted by the user via `torch.serialization.add_safe_globals`. We recommend you start setting `weights_only=True` for any use case where you don't have full control of the loaded file. Please open an issue on GitHub for any issues related to this experimental feature.\n",
      "  colbert_state_dict = torch.load(os.path.join(model_dir, 'colbert_linear.pt'), map_location='cpu')\n",
      "/home/harddisk/projects/legal_ml/.venv/lib/python3.10/site-packages/FlagEmbedding/BGE_M3/modeling.py:336: FutureWarning: You are using `torch.load` with `weights_only=False` (the current default value), which uses the default pickle module implicitly. It is possible to construct malicious pickle data which will execute arbitrary code during unpickling (See https://github.com/pytorch/pytorch/blob/main/SECURITY.md#untrusted-models for more details). In a future release, the default value for `weights_only` will be flipped to `True`. This limits the functions that could be executed during unpickling. Arbitrary objects will no longer be allowed to be loaded via this mode unless they are explicitly allowlisted by the user via `torch.serialization.add_safe_globals`. We recommend you start setting `weights_only=True` for any use case where you don't have full control of the loaded file. Please open an issue on GitHub for any issues related to this experimental feature.\n",
      "  sparse_state_dict = torch.load(os.path.join(model_dir, 'sparse_linear.pt'), map_location='cpu')\n"
     ]
    }
   ],
   "source": [
    "from FlagEmbedding import BGEM3FlagModel\n",
    "\n",
    "model = BGEM3FlagModel(\"BAAI/bge-m3\", use_fp16=False)"
   ]
  },
  {
   "cell_type": "code",
   "execution_count": 35,
   "metadata": {},
   "outputs": [
    {
     "data": {
      "text/plain": [
       "{'dense_vecs': array([-0.04810571,  0.01629228, -0.0242204 , ..., -0.01850992,\n",
       "        -0.0539299 , -0.03781377], dtype=float32),\n",
       " 'lexical_weights': defaultdict(int,\n",
       "             {'5187': 0.13655508,\n",
       "              '4042': 0.15718421,\n",
       "              '28068': 0.1956503,\n",
       "              '207964': 0.22945362,\n",
       "              '138417': 0.25035983,\n",
       "              '32': 0.034747005}),\n",
       " 'colbert_vecs': array([[-0.03758522,  0.02490063, -0.0064325 , ...,  0.03040174,\n",
       "          0.05951791, -0.02600569],\n",
       "        [-0.01922581,  0.01614589, -0.00853095, ...,  0.02471888,\n",
       "          0.03960711, -0.0021224 ],\n",
       "        [-0.02498882,  0.03419046,  0.01096246, ...,  0.02128083,\n",
       "          0.0368477 , -0.01440094],\n",
       "        ...,\n",
       "        [-0.04475792,  0.02650905,  0.02954892, ...,  0.0380312 ,\n",
       "          0.04102869,  0.00359551],\n",
       "        [-0.04123949,  0.00559941, -0.00024967, ...,  0.03513594,\n",
       "          0.06965889, -0.00638408],\n",
       "        [-0.00274066,  0.01769873, -0.03015449, ...,  0.02136883,\n",
       "          0.02701298,  0.01464019]], dtype=float32)}"
      ]
     },
     "execution_count": 35,
     "metadata": {},
     "output_type": "execute_result"
    }
   ],
   "source": [
    "model.encode(\"Как мне получить социальные выплаты?\", return_sparse=True, return_colbert_vecs=True)"
   ]
  },
  {
   "cell_type": "code",
   "execution_count": 37,
   "metadata": {},
   "outputs": [
    {
     "data": {
      "text/plain": [
       "{'Как': 0.13655508,\n",
       " 'мне': 0.15718421,\n",
       " 'получить': 0.1956503,\n",
       " 'социальные': 0.22945362,\n",
       " 'выплаты': 0.25035983,\n",
       " '?': 0.034747005}"
      ]
     },
     "execution_count": 37,
     "metadata": {},
     "output_type": "execute_result"
    }
   ],
   "source": [
    "model.convert_id_to_token(\n",
    "    [\n",
    "        {\n",
    "            \"5187\": 0.13655508,\n",
    "            \"4042\": 0.15718421,\n",
    "            \"28068\": 0.1956503,\n",
    "            \"207964\": 0.22945362,\n",
    "            \"138417\": 0.25035983,\n",
    "            \"32\": 0.034747005,\n",
    "        }\n",
    "    ]\n",
    ")"
   ]
  },
  {
   "cell_type": "markdown",
   "metadata": {},
   "source": [
    "https://qdrant.tech/articles/hybrid-search/\n",
    "\n",
    "https://qdrant.tech/documentation/concepts/vectors/"
   ]
  },
  {
   "cell_type": "markdown",
   "metadata": {},
   "source": [
    "Создаем векторную базу данных с несколькими векторами"
   ]
  },
  {
   "cell_type": "code",
   "execution_count": 56,
   "metadata": {},
   "outputs": [],
   "source": [
    "from qdrant_client import QdrantClient, models\n",
    "\n",
    "client = QdrantClient(\":memory:\")\n",
    "\n",
    "col_name = \"hybrid_search\""
   ]
  },
  {
   "cell_type": "code",
   "execution_count": 58,
   "metadata": {},
   "outputs": [
    {
     "data": {
      "text/plain": [
       "True"
      ]
     },
     "execution_count": 58,
     "metadata": {},
     "output_type": "execute_result"
    }
   ],
   "source": [
    "client.create_collection(\n",
    "    collection_name=col_name,\n",
    "    vectors_config={\n",
    "        \"dence\": models.VectorParams(size=100, distance=models.Distance.COSINE),\n",
    "        \"colbert\": models.VectorParams(\n",
    "            size=128,\n",
    "            distance=models.Distance.COSINE,\n",
    "            multivector_config=models.MultiVectorConfig(\n",
    "                comparator=models.MultiVectorComparator.MAX_SIM\n",
    "            ),\n",
    "        ),\n",
    "    },\n",
    "    sparse_vectors_config={\"text-sparse\": models.SparseVectorParams()},\n",
    ")"
   ]
  },
  {
   "cell_type": "code",
   "execution_count": 52,
   "metadata": {},
   "outputs": [
    {
     "data": {
      "text/plain": [
       "([], None)"
      ]
     },
     "execution_count": 52,
     "metadata": {},
     "output_type": "execute_result"
    }
   ],
   "source": [
    "client.scroll(collection_name=col_name)"
   ]
  }
 ],
 "metadata": {
  "kernelspec": {
   "display_name": ".venv",
   "language": "python",
   "name": "python3"
  },
  "language_info": {
   "codemirror_mode": {
    "name": "ipython",
    "version": 3
   },
   "file_extension": ".py",
   "mimetype": "text/x-python",
   "name": "python",
   "nbconvert_exporter": "python",
   "pygments_lexer": "ipython3",
   "version": "3.10.12"
  }
 },
 "nbformat": 4,
 "nbformat_minor": 2
}
