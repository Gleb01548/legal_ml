{
 "cells": [
  {
   "cell_type": "code",
   "execution_count": 1,
   "metadata": {},
   "outputs": [],
   "source": [
    "import os\n",
    "\n",
    "if \"src\" not in os.listdir():\n",
    "    os.chdir(\"../\")"
   ]
  },
  {
   "cell_type": "code",
   "execution_count": 2,
   "metadata": {},
   "outputs": [],
   "source": [
    "import pandas as pd\n",
    "from tqdm import tqdm\n",
    "from qdrant_client import QdrantClient\n",
    "\n",
    "\n",
    "tqdm.pandas()\n",
    "\n",
    "path_save = \"./data/interim/split_9111_dataset\""
   ]
  },
  {
   "cell_type": "code",
   "execution_count": 3,
   "metadata": {},
   "outputs": [],
   "source": [
    "client = QdrantClient(url=\"http://localhost\", port=6333)"
   ]
  },
  {
   "cell_type": "code",
   "execution_count": 4,
   "metadata": {},
   "outputs": [
    {
     "name": "stderr",
     "output_type": "stream",
     "text": [
      "100%|██████████| 12/12 [03:23<00:00, 17.00s/it]\n"
     ]
    }
   ],
   "source": [
    "buff = []\n",
    "for file_name in tqdm(os.listdir(path_save)):\n",
    "    path_file_save = os.path.join(path_save, file_name)\n",
    "    buff.append(pd.read_parquet(path_file_save))"
   ]
  },
  {
   "cell_type": "code",
   "execution_count": 6,
   "metadata": {},
   "outputs": [
    {
     "data": {
      "text/plain": [
       "0         [{'user_name': 'Бережнова О. И.', 'status': 'Ю...\n",
       "1         [{'user_name': 'Ившин В. А.', 'status': 'Юрист...\n",
       "2         [{'user_name': 'Каравайцева Е.А.', 'status': '...\n",
       "3         [{'user_name': 'Гушкина З.М.', 'status': 'Адво...\n",
       "4         [{'user_name': 'Окулова И. В.', 'status': 'Юри...\n",
       "                                ...                        \n",
       "999995    [{'user_name': 'Ермаков С. А.', 'status': 'Юри...\n",
       "999996    [{'user_name': 'Ермаков С. А.', 'status': 'Юри...\n",
       "999997    [{'user_name': 'Питниченко А. Ю.', 'status': '...\n",
       "999998    [{'user_name': 'Шмидт А. А.', 'status': 'Юрист...\n",
       "999999    [{'user_name': 'Кашапов Р.З.', 'status': 'Юрис...\n",
       "Name: answers, Length: 1000000, dtype: object"
      ]
     },
     "execution_count": 6,
     "metadata": {},
     "output_type": "execute_result"
    }
   ],
   "source": [
    "buff[0][\"answers\"]"
   ]
  }
 ],
 "metadata": {
  "kernelspec": {
   "display_name": ".venv",
   "language": "python",
   "name": "python3"
  },
  "language_info": {
   "codemirror_mode": {
    "name": "ipython",
    "version": 3
   },
   "file_extension": ".py",
   "mimetype": "text/x-python",
   "name": "python",
   "nbconvert_exporter": "python",
   "pygments_lexer": "ipython3",
   "version": "3.10.12"
  }
 },
 "nbformat": 4,
 "nbformat_minor": 2
}
