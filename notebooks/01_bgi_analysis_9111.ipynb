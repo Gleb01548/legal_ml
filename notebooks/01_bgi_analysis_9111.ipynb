{
 "cells": [
  {
   "cell_type": "code",
   "execution_count": 2,
   "metadata": {},
   "outputs": [],
   "source": [
    "import os\n",
    "\n",
    "if \"src\" not in os.listdir():\n",
    "    os.chdir(\"../\")"
   ]
  },
  {
   "cell_type": "code",
   "execution_count": null,
   "metadata": {},
   "outputs": [
    {
     "name": "stdout",
     "output_type": "stream",
     "text": [
      "INFO: Pandarallel will run on 32 workers.\n",
      "INFO: Pandarallel will use Memory file system to transfer data between the main process and workers.\n"
     ]
    }
   ],
   "source": [
    "import gc\n",
    "\n",
    "import pandas as pd\n",
    "from tqdm import tqdm\n",
    "\n",
    "tqdm.pandas()"
   ]
  },
  {
   "cell_type": "code",
   "execution_count": 4,
   "metadata": {},
   "outputs": [
    {
     "name": "stderr",
     "output_type": "stream",
     "text": [
      "100%|██████████| 12/12 [05:54<00:00, 29.55s/it]\n"
     ]
    },
    {
     "data": {
      "text/plain": [
       "0"
      ]
     },
     "execution_count": 4,
     "metadata": {},
     "output_type": "execute_result"
    }
   ],
   "source": [
    "path_files = \"./data/interim/split_9111_dataset\"\n",
    "\n",
    "res = []\n",
    "for name_file in tqdm(os.listdir(path_files)):\n",
    "    res.append(pd.read_parquet(os.path.join(path_files, name_file)))\n",
    "\n",
    "df = pd.concat(res)\n",
    "\n",
    "del res\n",
    "gc.collect()"
   ]
  },
  {
   "cell_type": "code",
   "execution_count": 5,
   "metadata": {},
   "outputs": [],
   "source": [
    "# запись из-за который возникала ошибка\n",
    "df_bad_record = pd.DataFrame(\n",
    "    {\n",
    "        \"id\": 18536837,\n",
    "        \"title\": \"Как мне получить субсидии на ком. платежи, если я ухаживаю за пожилым человеком старше 80 лет.\",\n",
    "        \"description\": \"Как мне получить субсидии на ком. платежи, если я ухаживаю за пожилым человеком старше 80 лет.\",\n",
    "        \"answers\": [\n",
    "            [\n",
    "                {\n",
    "                    \"user_name\": \"Парфенов В.Н.\",\n",
    "                    \"status\": \"Юрист\",\n",
    "                    \"rating\": 4.6,\n",
    "                    \"text\": \"К сожалению, то что вы ухаживаете за пожилым человеком старше 80 лет.-не является основанием для получения субсидии на оплату коммунальных услуг стст 153-155 ЖК РФ.\",\n",
    "                }\n",
    "            ]\n",
    "        ],\n",
    "    }\n",
    ")\n",
    "df = pd.concat([df, df_bad_record])"
   ]
  },
  {
   "cell_type": "code",
   "execution_count": 6,
   "metadata": {},
   "outputs": [
    {
     "data": {
      "text/html": [
       "<div>\n",
       "<style scoped>\n",
       "    .dataframe tbody tr th:only-of-type {\n",
       "        vertical-align: middle;\n",
       "    }\n",
       "\n",
       "    .dataframe tbody tr th {\n",
       "        vertical-align: top;\n",
       "    }\n",
       "\n",
       "    .dataframe thead th {\n",
       "        text-align: right;\n",
       "    }\n",
       "</style>\n",
       "<table border=\"1\" class=\"dataframe\">\n",
       "  <thead>\n",
       "    <tr style=\"text-align: right;\">\n",
       "      <th></th>\n",
       "      <th>id</th>\n",
       "      <th>title</th>\n",
       "      <th>description</th>\n",
       "      <th>answers</th>\n",
       "    </tr>\n",
       "  </thead>\n",
       "  <tbody>\n",
       "    <tr>\n",
       "      <th>0</th>\n",
       "      <td>16420931</td>\n",
       "      <td>Необходимость работы сверх установленного граф...</td>\n",
       "      <td>Я работы в мосметро в ПТБ, и график у меня сме...</td>\n",
       "      <td>[{'user_name': 'Чередниченко В.А.', 'status': ...</td>\n",
       "    </tr>\n",
       "    <tr>\n",
       "      <th>1</th>\n",
       "      <td>16420932</td>\n",
       "      <td>Хочу сестру лишить родительских прав, но не хо...</td>\n",
       "      <td>Хочу сестру лешить родительских прав,  но не х...</td>\n",
       "      <td>[{'user_name': 'Тома А. В.', 'status': 'Юрист'...</td>\n",
       "    </tr>\n",
       "    <tr>\n",
       "      <th>2</th>\n",
       "      <td>16420933</td>\n",
       "      <td>Можно ли при вступлении в наследство у нотариу...</td>\n",
       "      <td>Можно ли при вступлении в наследство  у нотари...</td>\n",
       "      <td>[{'user_name': 'Елисеева Е. Е.', 'status': 'Юр...</td>\n",
       "    </tr>\n",
       "    <tr>\n",
       "      <th>3</th>\n",
       "      <td>16420940</td>\n",
       "      <td>Вопрос о льготах на оплату детского сада для д...</td>\n",
       "      <td>У меня такой вопрос у меня 2 детей. У меня был...</td>\n",
       "      <td>[{'user_name': 'Ростовцев В. В.', 'status': 'Ю...</td>\n",
       "    </tr>\n",
       "    <tr>\n",
       "      <th>4</th>\n",
       "      <td>16420941</td>\n",
       "      <td>Будут ли приходить штрафы с камер видео-фото н...</td>\n",
       "      <td>Если выписали протокол за тонировку  на машину...</td>\n",
       "      <td>[{'user_name': 'Попов П. Е.', 'status': 'Юрист...</td>\n",
       "    </tr>\n",
       "  </tbody>\n",
       "</table>\n",
       "</div>"
      ],
      "text/plain": [
       "         id                                              title  \\\n",
       "0  16420931  Необходимость работы сверх установленного граф...   \n",
       "1  16420932  Хочу сестру лишить родительских прав, но не хо...   \n",
       "2  16420933  Можно ли при вступлении в наследство у нотариу...   \n",
       "3  16420940  Вопрос о льготах на оплату детского сада для д...   \n",
       "4  16420941  Будут ли приходить штрафы с камер видео-фото н...   \n",
       "\n",
       "                                         description  \\\n",
       "0  Я работы в мосметро в ПТБ, и график у меня сме...   \n",
       "1  Хочу сестру лешить родительских прав,  но не х...   \n",
       "2  Можно ли при вступлении в наследство  у нотари...   \n",
       "3  У меня такой вопрос у меня 2 детей. У меня был...   \n",
       "4  Если выписали протокол за тонировку  на машину...   \n",
       "\n",
       "                                             answers  \n",
       "0  [{'user_name': 'Чередниченко В.А.', 'status': ...  \n",
       "1  [{'user_name': 'Тома А. В.', 'status': 'Юрист'...  \n",
       "2  [{'user_name': 'Елисеева Е. Е.', 'status': 'Юр...  \n",
       "3  [{'user_name': 'Ростовцев В. В.', 'status': 'Ю...  \n",
       "4  [{'user_name': 'Попов П. Е.', 'status': 'Юрист...  "
      ]
     },
     "execution_count": 6,
     "metadata": {},
     "output_type": "execute_result"
    }
   ],
   "source": [
    "df.head(5)"
   ]
  },
  {
   "cell_type": "code",
   "execution_count": 7,
   "metadata": {},
   "outputs": [
    {
     "name": "stdout",
     "output_type": "stream",
     "text": [
      "Я являюсь собственником квартиры, год назад я купила квартиру с прописанным совершеннолетним человеком, он временно работает живёт в Москве приехать выписаться не может, я хочу выписать его через суд, его обяжет ли суд явиться? Если он не может приехать. Или ему проще самому выписаться в никуда? Заплатив позже штраф, Заранее спасибо за ответ.\n"
     ]
    }
   ],
   "source": [
    "print(df[\"description\"].sample().to_list()[0])"
   ]
  },
  {
   "cell_type": "code",
   "execution_count": 8,
   "metadata": {},
   "outputs": [
    {
     "data": {
      "text/plain": [
       "'Я работы в мосметро в ПТБ, и график у меня сменный 12 часов! В месяц выходит 186 часов и они не вмещаются в во все рабочие дни и ставят нам не 12 часов а 13 часов а если не хочешь дорабатывать, выходи в выходной день! Скажите, кто прав и законно ли все это? Потому как в трудовом договоре  честно написано-день 12, ночь 12, отсыпной и выходной! Спасибо.'"
      ]
     },
     "execution_count": 8,
     "metadata": {},
     "output_type": "execute_result"
    }
   ],
   "source": [
    "df[\"description\"].iloc[0]"
   ]
  },
  {
   "cell_type": "markdown",
   "metadata": {},
   "source": [
    "### Анализ датасета"
   ]
  },
  {
   "cell_type": "code",
   "execution_count": 9,
   "metadata": {},
   "outputs": [
    {
     "name": "stdout",
     "output_type": "stream",
     "text": [
      "Всего вопросов: 11,292,803\n"
     ]
    }
   ],
   "source": [
    "print(f\"Всего вопросов: {df.shape[0]:,}\")"
   ]
  },
  {
   "cell_type": "markdown",
   "metadata": {},
   "source": [
    "Собираем статистику по вопросам и ответам:\n",
    "- сколько и кто отвечал\n",
    "- распределение рейтинга\n"
   ]
  },
  {
   "cell_type": "code",
   "execution_count": 10,
   "metadata": {},
   "outputs": [],
   "source": [
    "counter_expert = []\n",
    "counter_rating = []\n",
    "counter_len_chat = []\n",
    "author_in_chat = []\n",
    "\n",
    "\n",
    "def stat(answers):\n",
    "    answers = list(answers)\n",
    "    len_answers = len(answers)\n",
    "\n",
    "    counter_len_chat.append(len_answers)\n",
    "    try:\n",
    "        counter_expert.extend([i[\"status\"] for i in answers])\n",
    "        counter_rating.extend([i[\"rating\"] for i in answers])\n",
    "        for i in answers:\n",
    "            if i[\"status\"] == \"Автор вопроса\":\n",
    "                author_in_chat.append(True)\n",
    "                break\n",
    "        else:\n",
    "            author_in_chat.append(False)\n",
    "    except:\n",
    "        print(answers)"
   ]
  },
  {
   "cell_type": "code",
   "execution_count": 11,
   "metadata": {},
   "outputs": [
    {
     "name": "stderr",
     "output_type": "stream",
     "text": [
      "100%|██████████| 11292803/11292803 [00:33<00:00, 340435.44it/s]\n"
     ]
    }
   ],
   "source": [
    "for i in tqdm(df[\"answers\"].to_list()):\n",
    "    stat(i)"
   ]
  },
  {
   "cell_type": "code",
   "execution_count": 12,
   "metadata": {},
   "outputs": [
    {
     "data": {
      "text/plain": [
       " 1    0.581362\n",
       " 2    0.214937\n",
       " 3    0.094587\n",
       " 4    0.044428\n",
       "-1    0.040818\n",
       " 5    0.023868\n",
       "Name: proportion, dtype: float64"
      ]
     },
     "execution_count": 12,
     "metadata": {},
     "output_type": "execute_result"
    }
   ],
   "source": [
    "counter_len_chat_series = pd.Series(\n",
    "    [i if i in [1, 2, 3, 4, 5] else -1 for i in counter_len_chat]\n",
    ")\n",
    "\n",
    "# показываем кол-во сообщений под каждым чатом\n",
    "counter_len_chat_series.value_counts(normalize=True)"
   ]
  },
  {
   "cell_type": "code",
   "execution_count": 13,
   "metadata": {},
   "outputs": [
    {
     "data": {
      "text/plain": [
       "False    0.916276\n",
       "True     0.083724\n",
       "Name: proportion, dtype: float64"
      ]
     },
     "execution_count": 13,
     "metadata": {},
     "output_type": "execute_result"
    }
   ],
   "source": [
    "author_in_chat_series = pd.Series(author_in_chat)\n",
    "\n",
    "# показываем как часто авторы вопроса продолжали диалог\n",
    "author_in_chat_series.value_counts(normalize=True)"
   ]
  },
  {
   "cell_type": "code",
   "execution_count": 14,
   "metadata": {},
   "outputs": [],
   "source": [
    "def norm(answers, description):\n",
    "    answers = list(answers)\n",
    "    try:\n",
    "        len_answ = len(answers)\n",
    "        rating = answers[0][\"rating\"]\n",
    "        text = answers[0][\"text\"]\n",
    "        len_description = len(description)\n",
    "        len_text = len(text)\n",
    "    except:\n",
    "        len_answ, rating, text, len_description, len_text = None, None, None, None, None\n",
    "    return len_answ, rating, text, len_description, len_text"
   ]
  },
  {
   "cell_type": "code",
   "execution_count": 15,
   "metadata": {},
   "outputs": [],
   "source": [
    "df[\"author_in_chat\"] = author_in_chat\n",
    "df[\"counter_len_chat\"] = counter_len_chat\n",
    "df[\"counter_len_chat_bins\"] = counter_len_chat_series"
   ]
  },
  {
   "cell_type": "code",
   "execution_count": 16,
   "metadata": {},
   "outputs": [
    {
     "data": {
      "text/html": [
       "<div>\n",
       "<style scoped>\n",
       "    .dataframe tbody tr th:only-of-type {\n",
       "        vertical-align: middle;\n",
       "    }\n",
       "\n",
       "    .dataframe tbody tr th {\n",
       "        vertical-align: top;\n",
       "    }\n",
       "\n",
       "    .dataframe thead th {\n",
       "        text-align: right;\n",
       "    }\n",
       "</style>\n",
       "<table border=\"1\" class=\"dataframe\">\n",
       "  <thead>\n",
       "    <tr style=\"text-align: right;\">\n",
       "      <th></th>\n",
       "      <th>id</th>\n",
       "      <th>title</th>\n",
       "      <th>description</th>\n",
       "      <th>answers</th>\n",
       "      <th>author_in_chat</th>\n",
       "      <th>counter_len_chat</th>\n",
       "      <th>counter_len_chat_bins</th>\n",
       "    </tr>\n",
       "  </thead>\n",
       "  <tbody>\n",
       "    <tr>\n",
       "      <th>0</th>\n",
       "      <td>16420931</td>\n",
       "      <td>Необходимость работы сверх установленного граф...</td>\n",
       "      <td>Я работы в мосметро в ПТБ, и график у меня сме...</td>\n",
       "      <td>[{'user_name': 'Чередниченко В.А.', 'status': ...</td>\n",
       "      <td>False</td>\n",
       "      <td>1</td>\n",
       "      <td>1</td>\n",
       "    </tr>\n",
       "    <tr>\n",
       "      <th>1</th>\n",
       "      <td>16420932</td>\n",
       "      <td>Хочу сестру лишить родительских прав, но не хо...</td>\n",
       "      <td>Хочу сестру лешить родительских прав,  но не х...</td>\n",
       "      <td>[{'user_name': 'Тома А. В.', 'status': 'Юрист'...</td>\n",
       "      <td>False</td>\n",
       "      <td>1</td>\n",
       "      <td>1</td>\n",
       "    </tr>\n",
       "    <tr>\n",
       "      <th>2</th>\n",
       "      <td>16420933</td>\n",
       "      <td>Можно ли при вступлении в наследство у нотариу...</td>\n",
       "      <td>Можно ли при вступлении в наследство  у нотари...</td>\n",
       "      <td>[{'user_name': 'Елисеева Е. Е.', 'status': 'Юр...</td>\n",
       "      <td>False</td>\n",
       "      <td>2</td>\n",
       "      <td>2</td>\n",
       "    </tr>\n",
       "    <tr>\n",
       "      <th>3</th>\n",
       "      <td>16420940</td>\n",
       "      <td>Вопрос о льготах на оплату детского сада для д...</td>\n",
       "      <td>У меня такой вопрос у меня 2 детей. У меня был...</td>\n",
       "      <td>[{'user_name': 'Ростовцев В. В.', 'status': 'Ю...</td>\n",
       "      <td>False</td>\n",
       "      <td>3</td>\n",
       "      <td>3</td>\n",
       "    </tr>\n",
       "    <tr>\n",
       "      <th>4</th>\n",
       "      <td>16420941</td>\n",
       "      <td>Будут ли приходить штрафы с камер видео-фото н...</td>\n",
       "      <td>Если выписали протокол за тонировку  на машину...</td>\n",
       "      <td>[{'user_name': 'Попов П. Е.', 'status': 'Юрист...</td>\n",
       "      <td>True</td>\n",
       "      <td>2</td>\n",
       "      <td>2</td>\n",
       "    </tr>\n",
       "  </tbody>\n",
       "</table>\n",
       "</div>"
      ],
      "text/plain": [
       "         id                                              title  \\\n",
       "0  16420931  Необходимость работы сверх установленного граф...   \n",
       "1  16420932  Хочу сестру лишить родительских прав, но не хо...   \n",
       "2  16420933  Можно ли при вступлении в наследство у нотариу...   \n",
       "3  16420940  Вопрос о льготах на оплату детского сада для д...   \n",
       "4  16420941  Будут ли приходить штрафы с камер видео-фото н...   \n",
       "\n",
       "                                         description  \\\n",
       "0  Я работы в мосметро в ПТБ, и график у меня сме...   \n",
       "1  Хочу сестру лешить родительских прав,  но не х...   \n",
       "2  Можно ли при вступлении в наследство  у нотари...   \n",
       "3  У меня такой вопрос у меня 2 детей. У меня был...   \n",
       "4  Если выписали протокол за тонировку  на машину...   \n",
       "\n",
       "                                             answers  author_in_chat  \\\n",
       "0  [{'user_name': 'Чередниченко В.А.', 'status': ...           False   \n",
       "1  [{'user_name': 'Тома А. В.', 'status': 'Юрист'...           False   \n",
       "2  [{'user_name': 'Елисеева Е. Е.', 'status': 'Юр...           False   \n",
       "3  [{'user_name': 'Ростовцев В. В.', 'status': 'Ю...           False   \n",
       "4  [{'user_name': 'Попов П. Е.', 'status': 'Юрист...            True   \n",
       "\n",
       "   counter_len_chat  counter_len_chat_bins  \n",
       "0                 1                      1  \n",
       "1                 1                      1  \n",
       "2                 2                      2  \n",
       "3                 3                      3  \n",
       "4                 2                      2  "
      ]
     },
     "execution_count": 16,
     "metadata": {},
     "output_type": "execute_result"
    }
   ],
   "source": [
    "df.head()"
   ]
  },
  {
   "cell_type": "code",
   "execution_count": 17,
   "metadata": {},
   "outputs": [],
   "source": [
    "# отбираем все вопросы под которыми не писал сам автор вопроса, то есть без диалога\n",
    "df_not_dialog = df[(~df[\"author_in_chat\"])]"
   ]
  },
  {
   "cell_type": "code",
   "execution_count": 18,
   "metadata": {},
   "outputs": [
    {
     "name": "stdout",
     "output_type": "stream",
     "text": [
      "Всего диалоговых вопросов было: 945,481\n",
      "Без диалога: 10,347,322\n"
     ]
    }
   ],
   "source": [
    "print(f\"Всего диалоговых вопросов было: {df.shape[0] - df_not_dialog.shape[0]:,}\")\n",
    "print(f\"Без диалога: {df_not_dialog.shape[0]:,}\")"
   ]
  },
  {
   "cell_type": "code",
   "execution_count": 19,
   "metadata": {},
   "outputs": [
    {
     "data": {
      "text/plain": [
       "{'user_name': 'Чередниченко В.А.',\n",
       " 'status': 'Адвокат',\n",
       " 'rating': 3.8,\n",
       " 'text': 'Полагаю, что незаконно, но для более конкретного ответа нужно смотреть ваши локальные внутренние документы организации, а также ваш трудовой договор. Как вариант, вы можете обратиться с жалобой в трудовую инспекцию, чтобы провела документальную проверку. Но это конфликт с работодателем, так что нужно быть готовым к любым последствиям.'}"
      ]
     },
     "execution_count": 19,
     "metadata": {},
     "output_type": "execute_result"
    }
   ],
   "source": [
    "df_not_dialog[\"answers\"].iloc[0][0]"
   ]
  },
  {
   "cell_type": "code",
   "execution_count": 20,
   "metadata": {},
   "outputs": [
    {
     "name": "stderr",
     "output_type": "stream",
     "text": [
      "100%|██████████| 10347322/10347322 [06:45<00:00, 25527.62it/s]\n",
      "/tmp/ipykernel_1414820/2025629751.py:15: SettingWithCopyWarning: \n",
      "A value is trying to be set on a copy of a slice from a DataFrame.\n",
      "Try using .loc[row_indexer,col_indexer] = value instead\n",
      "\n",
      "See the caveats in the documentation: https://pandas.pydata.org/pandas-docs/stable/user_guide/indexing.html#returning-a-view-versus-a-copy\n",
      "  df_not_dialog[[\"answers_max\", \"max_rating\"]] = df_not_dialog.progress_apply(\n",
      "/tmp/ipykernel_1414820/2025629751.py:15: SettingWithCopyWarning: \n",
      "A value is trying to be set on a copy of a slice from a DataFrame.\n",
      "Try using .loc[row_indexer,col_indexer] = value instead\n",
      "\n",
      "See the caveats in the documentation: https://pandas.pydata.org/pandas-docs/stable/user_guide/indexing.html#returning-a-view-versus-a-copy\n",
      "  df_not_dialog[[\"answers_max\", \"max_rating\"]] = df_not_dialog.progress_apply(\n"
     ]
    }
   ],
   "source": [
    "def func(answers):\n",
    "    \"\"\"\n",
    "    Выделяем ответ юриста с максимальным рейтингом. \n",
    "    Если рейтинги одинаковые, то будет выбран первый ответ\n",
    "     \"\"\"\n",
    "    max_index = 0\n",
    "    max_rating = 0\n",
    "    for index, i in enumerate(answers):\n",
    "        if max_rating < i[\"rating\"]:\n",
    "            max_index = index\n",
    "            max_rating = i[\"rating\"]\n",
    "    return answers[max_index], max_rating\n",
    "\n",
    "\n",
    "df_not_dialog[[\"answers_max\", \"max_rating\"]] = df_not_dialog.progress_apply(\n",
    "    lambda x: func(x[\"answers\"]), result_type=\"expand\", axis=1\n",
    ")"
   ]
  },
  {
   "cell_type": "code",
   "execution_count": 21,
   "metadata": {},
   "outputs": [
    {
     "data": {
      "text/plain": [
       "count    1.034732e+07\n",
       "mean     1.387905e+00\n",
       "std      2.029759e+00\n",
       "min      0.000000e+00\n",
       "25%      0.000000e+00\n",
       "50%      0.000000e+00\n",
       "75%      3.200000e+00\n",
       "max      8.600000e+00\n",
       "Name: max_rating, dtype: float64"
      ]
     },
     "execution_count": 21,
     "metadata": {},
     "output_type": "execute_result"
    }
   ],
   "source": [
    "df_not_dialog[\"max_rating\"].describe()"
   ]
  },
  {
   "cell_type": "code",
   "execution_count": 22,
   "metadata": {},
   "outputs": [
    {
     "data": {
      "text/plain": [
       "count    3.596666e+06\n",
       "mean     3.992892e+00\n",
       "std      1.204682e+00\n",
       "min      1.100000e+00\n",
       "25%      3.100000e+00\n",
       "50%      3.900000e+00\n",
       "75%      4.700000e+00\n",
       "max      8.600000e+00\n",
       "Name: max_rating, dtype: float64"
      ]
     },
     "execution_count": 22,
     "metadata": {},
     "output_type": "execute_result"
    }
   ],
   "source": [
    "df_not_dialog.loc[df_not_dialog[\"max_rating\"] > 0, \"max_rating\"].describe()"
   ]
  },
  {
   "cell_type": "code",
   "execution_count": 23,
   "metadata": {},
   "outputs": [
    {
     "data": {
      "text/plain": [
       "<Axes: >"
      ]
     },
     "execution_count": 23,
     "metadata": {},
     "output_type": "execute_result"
    },
    {
     "data": {
      "image/png": "[encoded data removed]",
      "text/plain": [
       "<Figure size 640x480 with 1 Axes>"
      ]
     },
     "metadata": {},
     "output_type": "display_data"
    }
   ],
   "source": [
    "df_not_dialog.loc[df_not_dialog[\"max_rating\"] > 0, \"max_rating\"].hist()"
   ]
  },
  {
   "cell_type": "code",
   "execution_count": 24,
   "metadata": {},
   "outputs": [
    {
     "name": "stdout",
     "output_type": "stream",
     "text": [
      "Кол-во диалогов с оценкой 3,596,666\n"
     ]
    }
   ],
   "source": [
    "dialog_with_score = len(df_not_dialog.loc[df_not_dialog[\"max_rating\"] > 0])\n",
    "print(f\"Кол-во диалогов с оценкой {dialog_with_score:,}\")"
   ]
  },
  {
   "cell_type": "code",
   "execution_count": 25,
   "metadata": {},
   "outputs": [
    {
     "data": {
      "text/html": [
       "<div>\n",
       "<style scoped>\n",
       "    .dataframe tbody tr th:only-of-type {\n",
       "        vertical-align: middle;\n",
       "    }\n",
       "\n",
       "    .dataframe tbody tr th {\n",
       "        vertical-align: top;\n",
       "    }\n",
       "\n",
       "    .dataframe thead th {\n",
       "        text-align: right;\n",
       "    }\n",
       "</style>\n",
       "<table border=\"1\" class=\"dataframe\">\n",
       "  <thead>\n",
       "    <tr style=\"text-align: right;\">\n",
       "      <th></th>\n",
       "      <th>id</th>\n",
       "      <th>title</th>\n",
       "      <th>description</th>\n",
       "      <th>answers</th>\n",
       "      <th>author_in_chat</th>\n",
       "      <th>counter_len_chat</th>\n",
       "      <th>counter_len_chat_bins</th>\n",
       "      <th>answers_max</th>\n",
       "      <th>max_rating</th>\n",
       "    </tr>\n",
       "  </thead>\n",
       "  <tbody>\n",
       "    <tr>\n",
       "      <th>0</th>\n",
       "      <td>16420931</td>\n",
       "      <td>Необходимость работы сверх установленного граф...</td>\n",
       "      <td>Я работы в мосметро в ПТБ, и график у меня сме...</td>\n",
       "      <td>[{'user_name': 'Чередниченко В.А.', 'status': ...</td>\n",
       "      <td>False</td>\n",
       "      <td>1</td>\n",
       "      <td>1</td>\n",
       "      <td>{'user_name': 'Чередниченко В.А.', 'status': '...</td>\n",
       "      <td>3.8</td>\n",
       "    </tr>\n",
       "    <tr>\n",
       "      <th>2</th>\n",
       "      <td>16420933</td>\n",
       "      <td>Можно ли при вступлении в наследство у нотариу...</td>\n",
       "      <td>Можно ли при вступлении в наследство  у нотари...</td>\n",
       "      <td>[{'user_name': 'Елисеева Е. Е.', 'status': 'Юр...</td>\n",
       "      <td>False</td>\n",
       "      <td>2</td>\n",
       "      <td>2</td>\n",
       "      <td>{'user_name': 'Гудкова Г.В.', 'status': 'Адвок...</td>\n",
       "      <td>1.5</td>\n",
       "    </tr>\n",
       "    <tr>\n",
       "      <th>5</th>\n",
       "      <td>16420942</td>\n",
       "      <td>Куда и как обратиться осужденному, если ему за...</td>\n",
       "      <td>Осужденному при начислении заработной платы за...</td>\n",
       "      <td>[{'user_name': 'Шулимов В. Г.', 'status': 'Юри...</td>\n",
       "      <td>False</td>\n",
       "      <td>1</td>\n",
       "      <td>1</td>\n",
       "      <td>{'user_name': 'Шулимов В. Г.', 'status': 'Юрис...</td>\n",
       "      <td>4.4</td>\n",
       "    </tr>\n",
       "    <tr>\n",
       "      <th>6</th>\n",
       "      <td>16420944</td>\n",
       "      <td>Как получить почетную грамоту Министерства здр...</td>\n",
       "      <td>У меня есть грамота ФМБА России от 2018 г и ст...</td>\n",
       "      <td>[{'user_name': 'Шулимов В. Г.', 'status': 'Юри...</td>\n",
       "      <td>False</td>\n",
       "      <td>1</td>\n",
       "      <td>1</td>\n",
       "      <td>{'user_name': 'Шулимов В. Г.', 'status': 'Юрис...</td>\n",
       "      <td>4.4</td>\n",
       "    </tr>\n",
       "    <tr>\n",
       "      <th>12</th>\n",
       "      <td>16420957</td>\n",
       "      <td>Возможно ли переоформление мужа в программу ус...</td>\n",
       "      <td>Получили сертификат по программе устойчивое ра...</td>\n",
       "      <td>[{'user_name': 'Чередниченко В.А.', 'status': ...</td>\n",
       "      <td>False</td>\n",
       "      <td>1</td>\n",
       "      <td>1</td>\n",
       "      <td>{'user_name': 'Чередниченко В.А.', 'status': '...</td>\n",
       "      <td>3.8</td>\n",
       "    </tr>\n",
       "    <tr>\n",
       "      <th>...</th>\n",
       "      <td>...</td>\n",
       "      <td>...</td>\n",
       "      <td>...</td>\n",
       "      <td>...</td>\n",
       "      <td>...</td>\n",
       "      <td>...</td>\n",
       "      <td>...</td>\n",
       "      <td>...</td>\n",
       "      <td>...</td>\n",
       "    </tr>\n",
       "    <tr>\n",
       "      <th>999962</th>\n",
       "      <td>13948594</td>\n",
       "      <td>Применение ЗоЗПП в договоре об оказании услуг ...</td>\n",
       "      <td>Составлен договор об оказании услуг между физи...</td>\n",
       "      <td>[{'user_name': 'Кузьминых С.В.', 'status': 'Юр...</td>\n",
       "      <td>False</td>\n",
       "      <td>2</td>\n",
       "      <td>3</td>\n",
       "      <td>{'user_name': 'Панфилов А.Ф.', 'status': 'Адво...</td>\n",
       "      <td>4.9</td>\n",
       "    </tr>\n",
       "    <tr>\n",
       "      <th>999992</th>\n",
       "      <td>13948653</td>\n",
       "      <td>Развод в семье, где один из супругов находится...</td>\n",
       "      <td>Здравствуйте, я хочу узнать если муж лежит в п...</td>\n",
       "      <td>[{'user_name': 'Байдина Д. Ю.', 'status': 'Юри...</td>\n",
       "      <td>False</td>\n",
       "      <td>3</td>\n",
       "      <td>2</td>\n",
       "      <td>{'user_name': 'Панфилов А.Ф.', 'status': 'Адво...</td>\n",
       "      <td>4.9</td>\n",
       "    </tr>\n",
       "    <tr>\n",
       "      <th>999994</th>\n",
       "      <td>13948658</td>\n",
       "      <td>Можно ли подать новый иск к генеральному дирек...</td>\n",
       "      <td>Я физлицо. Было взыскание долга с ООО. \\nСудеб...</td>\n",
       "      <td>[{'user_name': 'DELETE', 'status': 'Юрист', 'r...</td>\n",
       "      <td>False</td>\n",
       "      <td>2</td>\n",
       "      <td>-1</td>\n",
       "      <td>{'user_name': 'Булатова И.Д.', 'status': 'Юрис...</td>\n",
       "      <td>3.2</td>\n",
       "    </tr>\n",
       "    <tr>\n",
       "      <th>999995</th>\n",
       "      <td>13948659</td>\n",
       "      <td>Может ли директор школы перераспределить нагру...</td>\n",
       "      <td>Здравствуйте!\\n Имеет ли право директор  школы...</td>\n",
       "      <td>[{'user_name': 'Кандакова А.В.', 'status': 'Юр...</td>\n",
       "      <td>False</td>\n",
       "      <td>11</td>\n",
       "      <td>1</td>\n",
       "      <td>{'user_name': 'Каравайцева Е.А.', 'status': 'Ю...</td>\n",
       "      <td>5.9</td>\n",
       "    </tr>\n",
       "    <tr>\n",
       "      <th>0</th>\n",
       "      <td>18536837</td>\n",
       "      <td>Как мне получить субсидии на ком. платежи, есл...</td>\n",
       "      <td>Как мне получить субсидии на ком. платежи, есл...</td>\n",
       "      <td>[{'user_name': 'Парфенов В.Н.', 'status': 'Юри...</td>\n",
       "      <td>False</td>\n",
       "      <td>1</td>\n",
       "      <td>1</td>\n",
       "      <td>{'user_name': 'Парфенов В.Н.', 'status': 'Юрис...</td>\n",
       "      <td>4.6</td>\n",
       "    </tr>\n",
       "  </tbody>\n",
       "</table>\n",
       "<p>3596666 rows × 9 columns</p>\n",
       "</div>"
      ],
      "text/plain": [
       "              id                                              title  \\\n",
       "0       16420931  Необходимость работы сверх установленного граф...   \n",
       "2       16420933  Можно ли при вступлении в наследство у нотариу...   \n",
       "5       16420942  Куда и как обратиться осужденному, если ему за...   \n",
       "6       16420944  Как получить почетную грамоту Министерства здр...   \n",
       "12      16420957  Возможно ли переоформление мужа в программу ус...   \n",
       "...          ...                                                ...   \n",
       "999962  13948594  Применение ЗоЗПП в договоре об оказании услуг ...   \n",
       "999992  13948653  Развод в семье, где один из супругов находится...   \n",
       "999994  13948658  Можно ли подать новый иск к генеральному дирек...   \n",
       "999995  13948659  Может ли директор школы перераспределить нагру...   \n",
       "0       18536837  Как мне получить субсидии на ком. платежи, есл...   \n",
       "\n",
       "                                              description  \\\n",
       "0       Я работы в мосметро в ПТБ, и график у меня сме...   \n",
       "2       Можно ли при вступлении в наследство  у нотари...   \n",
       "5       Осужденному при начислении заработной платы за...   \n",
       "6       У меня есть грамота ФМБА России от 2018 г и ст...   \n",
       "12      Получили сертификат по программе устойчивое ра...   \n",
       "...                                                   ...   \n",
       "999962  Составлен договор об оказании услуг между физи...   \n",
       "999992  Здравствуйте, я хочу узнать если муж лежит в п...   \n",
       "999994  Я физлицо. Было взыскание долга с ООО. \\nСудеб...   \n",
       "999995  Здравствуйте!\\n Имеет ли право директор  школы...   \n",
       "0       Как мне получить субсидии на ком. платежи, есл...   \n",
       "\n",
       "                                                  answers  author_in_chat  \\\n",
       "0       [{'user_name': 'Чередниченко В.А.', 'status': ...           False   \n",
       "2       [{'user_name': 'Елисеева Е. Е.', 'status': 'Юр...           False   \n",
       "5       [{'user_name': 'Шулимов В. Г.', 'status': 'Юри...           False   \n",
       "6       [{'user_name': 'Шулимов В. Г.', 'status': 'Юри...           False   \n",
       "12      [{'user_name': 'Чередниченко В.А.', 'status': ...           False   \n",
       "...                                                   ...             ...   \n",
       "999962  [{'user_name': 'Кузьминых С.В.', 'status': 'Юр...           False   \n",
       "999992  [{'user_name': 'Байдина Д. Ю.', 'status': 'Юри...           False   \n",
       "999994  [{'user_name': 'DELETE', 'status': 'Юрист', 'r...           False   \n",
       "999995  [{'user_name': 'Кандакова А.В.', 'status': 'Юр...           False   \n",
       "0       [{'user_name': 'Парфенов В.Н.', 'status': 'Юри...           False   \n",
       "\n",
       "        counter_len_chat  counter_len_chat_bins  \\\n",
       "0                      1                      1   \n",
       "2                      2                      2   \n",
       "5                      1                      1   \n",
       "6                      1                      1   \n",
       "12                     1                      1   \n",
       "...                  ...                    ...   \n",
       "999962                 2                      3   \n",
       "999992                 3                      2   \n",
       "999994                 2                     -1   \n",
       "999995                11                      1   \n",
       "0                      1                      1   \n",
       "\n",
       "                                              answers_max  max_rating  \n",
       "0       {'user_name': 'Чередниченко В.А.', 'status': '...         3.8  \n",
       "2       {'user_name': 'Гудкова Г.В.', 'status': 'Адвок...         1.5  \n",
       "5       {'user_name': 'Шулимов В. Г.', 'status': 'Юрис...         4.4  \n",
       "6       {'user_name': 'Шулимов В. Г.', 'status': 'Юрис...         4.4  \n",
       "12      {'user_name': 'Чередниченко В.А.', 'status': '...         3.8  \n",
       "...                                                   ...         ...  \n",
       "999962  {'user_name': 'Панфилов А.Ф.', 'status': 'Адво...         4.9  \n",
       "999992  {'user_name': 'Панфилов А.Ф.', 'status': 'Адво...         4.9  \n",
       "999994  {'user_name': 'Булатова И.Д.', 'status': 'Юрис...         3.2  \n",
       "999995  {'user_name': 'Каравайцева Е.А.', 'status': 'Ю...         5.9  \n",
       "0       {'user_name': 'Парфенов В.Н.', 'status': 'Юрис...         4.6  \n",
       "\n",
       "[3596666 rows x 9 columns]"
      ]
     },
     "execution_count": 25,
     "metadata": {},
     "output_type": "execute_result"
    }
   ],
   "source": [
    "df_not_dialog.loc[df_not_dialog[\"max_rating\"] > 0]"
   ]
  },
  {
   "cell_type": "markdown",
   "metadata": {},
   "source": [
    "### Вывод"
   ]
  },
  {
   "cell_type": "markdown",
   "metadata": {},
   "source": [
    "Большая часть вопросов датасета 9111:\n",
    "- без диалогов, тоесть автор вопроса не пишит на ответ юристов\n",
    "- большая часть ответов дана юристами без рейтинга\n",
    "- попадаются низкокачественные ответы\n",
    "\n",
    "Считаю необходимым в дальнейшей работе использовать только те вопросы у которых нет диалога и на которые отвечал юрист с рейтингом"
   ]
  }
 ],
 "metadata": {
  "kernelspec": {
   "display_name": ".venv",
   "language": "python",
   "name": "python3"
  },
  "language_info": {
   "codemirror_mode": {
    "name": "ipython",
    "version": 3
   },
   "file_extension": ".py",
   "mimetype": "text/x-python",
   "name": "python",
   "nbconvert_exporter": "python",
   "pygments_lexer": "ipython3",
   "version": "3.10.12"
  }
 },
 "nbformat": 4,
 "nbformat_minor": 2
}
